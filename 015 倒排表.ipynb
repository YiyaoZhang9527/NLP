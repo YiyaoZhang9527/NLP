{
 "metadata": {
  "language_info": {
   "codemirror_mode": {
    "name": "ipython",
    "version": 3
   },
   "file_extension": ".py",
   "mimetype": "text/x-python",
   "name": "python",
   "nbconvert_exporter": "python",
   "pygments_lexer": "ipython3",
   "version": "3.7.6-final"
  },
  "orig_nbformat": 2,
  "kernelspec": {
   "name": "pycharm-66c53067",
   "display_name": "PyCharm (InferenceSystem)"
  }
 },
 "nbformat": 4,
 "nbformat_minor": 2,
 "cells": [
  {
   "cell_type": "code",
   "execution_count": 4,
   "metadata": {},
   "outputs": [],
   "source": [
    "import numpy as np\n",
    "import torch\n",
    "import re\n",
    "import jieba"
   ]
  },
  {
   "cell_type": "code",
   "execution_count": 5,
   "metadata": {},
   "outputs": [],
   "source": [
    "stop_word_path = \"/Users/manmanzhang/Library/Mobile Documents/com~apple~CloudDocs/MyProject/InferenceSystem/src/I5_algorithm/NLP数据集合/停词库/stop_word_for_chinese.txt\"\n",
    "\n",
    "def del_element(strings,symbles):\n",
    "    srcrep = {i:'' for i in symbles }\n",
    "    rep = dict((re.escape(k), v) for k, v in srcrep.items())\n",
    "    pattern = re.compile(\"|\".join(rep.keys()))\n",
    "    return pattern.sub(lambda m: rep[re.escape(m.group(0))], strings)\n",
    "    \n",
    "def filter_stop_word(strings,stop_word=np.loadtxt(stop_word_path,dtype=str)):\n",
    "    return del_element(strings,stop_word)\n",
    "\n",
    "def read_txt(path):\n",
    "    return open(path,'r').readlines()\n",
    "\n",
    "def split_word(corpus,n):\n",
    "    return np.array([word for word in jieba.cut(filter_stop_word(filter_stop_word(read_txt(corpus)[n]),'\\n ')) if len(word) > 1 ])"
   ]
  },
  {
   "cell_type": "code",
   "execution_count": 6,
   "metadata": {},
   "outputs": [],
   "source": [
    "corpus = \"/Users/manmanzhang/Library/Mobile Documents/com~apple~CloudDocs/MyProject/InferenceSystem/src/I5_algorithm/NLP数据集合/豆瓣电影数据集(2019.3)/豆瓣电影简介.txt\""
   ]
  },
  {
   "cell_type": "code",
   "execution_count": 7,
   "metadata": {
    "tags": []
   },
   "outputs": [
    {
     "output_type": "stream",
     "name": "stderr",
     "text": "Building prefix dict from /usr/local/lib/python3.7/site-packages/jieba/dict.txt ...\nLoading model from cache /var/folders/sl/q8x6_03132dfk7rktf00yh880000gn/T/jieba.cache\nLoading model cost 1.0738599300384521 seconds.\nPrefix dict has been built succesfully.\n"
    }
   ],
   "source": [
    "# 倒入文章并分词\n",
    "init_paper = np.array([split_word(corpus,i) for i in range(100)])\n",
    "# 所有单词降维到一维\n",
    "all_words = np.array([j for i in init_paper for j in i])\n",
    "# 单词去重\n",
    "word_vector = np.unique(all_words)\n",
    "# 测量共有词汇量\n",
    "m = all_words.size\n",
    "# 整理词频字典\n",
    "word_dict = {word:(all_words==word).dot(np.ones(m))/m for word in word_vector}\n",
    "#word_dict_index = dict(zip(word_vector,range(m)))"
   ]
  },
  {
   "cell_type": "markdown",
   "metadata": {},
   "source": [
    "# 倒排表"
   ]
  },
  {
   "cell_type": "code",
   "execution_count": 17,
   "metadata": {},
   "outputs": [
    {
     "output_type": "execute_result",
     "data": {
      "text/plain": "2885"
     },
     "metadata": {},
     "execution_count": 17
    }
   ],
   "source": [
    "len(word_dict)"
   ]
  },
  {
   "cell_type": "code",
   "execution_count": 8,
   "metadata": {},
   "outputs": [],
   "source": [
    "def inverted_index(paper,word_vector):\n",
    "    result = dict()\n",
    "    n = -1\n",
    "    for i in paper:\n",
    "        n += 1\n",
    "        for j in i:\n",
    "            if j in word_vector:\n",
    "                if j in result:\n",
    "                    result[j] = result[j]+[n]\n",
    "                else:\n",
    "                    result.update({j:[n]})\n",
    "    return {i:list(set(result[i])) for i in result}"
   ]
  },
  {
   "cell_type": "code",
   "execution_count": 9,
   "metadata": {},
   "outputs": [
    {
     "output_type": "execute_result",
     "data": {
      "text/plain": "2885"
     },
     "metadata": {},
     "execution_count": 9
    }
   ],
   "source": [
    "Inverted_Index_List = inverted_index(init_paper,word_vector)\n",
    "len(Inverted_Index_List)"
   ]
  },
  {
   "cell_type": "markdown",
   "metadata": {},
   "source": [
    "# 搜索倒排表"
   ]
  },
  {
   "cell_type": "code",
   "execution_count": 10,
   "metadata": {},
   "outputs": [],
   "source": [
    "def search_inverted_index(strings):\n",
    "    Inverted_Index_List = inverted_index(init_paper,word_vector)\n",
    "    words_for_search = []\n",
    "    split_word_for_search = list(jieba.cut_for_search(strings))\n",
    "    for word in split_word_for_search:\n",
    "        if word in Inverted_Index_List:\n",
    "            print(word,Inverted_Index_List[word])\n",
    "            words_for_search+=Inverted_Index_List[word]\n",
    "    return np.array(words_for_search),split_word_for_search"
   ]
  },
  {
   "cell_type": "markdown",
   "metadata": {},
   "source": [
    "# 词频向量"
   ]
  },
  {
   "cell_type": "code",
   "execution_count": 11,
   "metadata": {},
   "outputs": [],
   "source": [
    "def word_frequency(words):\n",
    "    return np.array([word_dict[word] if word in words  else 0 for word in word_dict])"
   ]
  },
  {
   "cell_type": "markdown",
   "metadata": {},
   "source": [
    "# 余弦相似度"
   ]
  },
  {
   "cell_type": "code",
   "execution_count": 12,
   "metadata": {},
   "outputs": [],
   "source": [
    "def cosine(s1,s2):\n",
    "    return s1.dot(s2)/(np.linalg.norm(s1) * np.linalg.norm(s2))"
   ]
  },
  {
   "cell_type": "markdown",
   "metadata": {},
   "source": [
    "# 搜索倒排表"
   ]
  },
  {
   "cell_type": "code",
   "execution_count": 13,
   "metadata": {
    "tags": []
   },
   "outputs": [
    {
     "output_type": "stream",
     "name": "stdout",
     "text": "北京 [78]\n爱情 [60, 92, 62, 84]\n"
    },
    {
     "output_type": "execute_result",
     "data": {
      "text/plain": "(array([78, 60, 92, 62, 84]), ['北京', '爱情'])"
     },
     "metadata": {},
     "execution_count": 13
    }
   ],
   "source": [
    "search_paper_index,search_word = search_inverted_index(\"北京爱情\")\n",
    "search_paper_index,search_word"
   ]
  },
  {
   "cell_type": "markdown",
   "metadata": {},
   "source": [
    "# 余弦匹配符合倒排表内容"
   ]
  },
  {
   "cell_type": "code",
   "execution_count": 14,
   "metadata": {},
   "outputs": [
    {
     "output_type": "execute_result",
     "data": {
      "text/plain": "array([' 故事发生在上世纪七十年代，寄人篱下的少女何小萍（苗苗饰）经过重重试炼终于加入了梦寐以求的文工团，哪知道这里和她曾经待过的那些地方并无不同，她依然得忍受遭人唾弃和欺侮的生活。唯一给过她温暖的，是刘峰（黄轩饰），不仅仅是对何小萍，被称为“活雷锋”的刘峰把自己的爱情和温暖无私的奉献给每一个人。 \\n',\n       ' 编号为223的警察（金城武）失恋后患上失恋综合症，在与金发女杀手（林青霞）擦肩而过又离奇相遇并有了一晚温情后，原本以为包括“爱情”在内的所有东西都有保质期的他意外地迎来心灵的短暂温暖。可是，他们的爱情还是结束了。 \\n',\n       ' 许多年前，亚特兰蒂斯女王（妮可·基德曼NicoleKidman饰）和人类相知相恋，共同孕育了爱情的结晶——后来被陆地人称为海王的亚瑟·库瑞（杰森·莫玛JasonMomoa饰）。在成长的过程中，亚瑟接受海底导师维科（威廉·达福WillemDafoe饰）的严苛训练，时刻渴望去看望母亲，然而作为混血的私生子这却是奢望。与此同时，亚瑟的同母异父兄弟奥姆（帕特里克·威尔森PatrickWilson饰）成为亚特兰蒂斯的国王，他不满陆地人类对大海的荼毒与污染，遂谋划联合其他海底王国发动对陆地的全面战争。为了阻止他的野心，维科和奥姆的未婚妻湄拉（艾梅柏·希尔德AmberHeard饰）将亚瑟带到海底世界。 \\n',\n       ' 结婚五周年纪念日的早上，尼克·邓恩（本·阿弗莱克BenAffleck饰）来到妹妹玛戈（凯莉·库恩CarrieCoon饰）的酒吧，咒骂抱怨那个曾经彼此恩爱缠绵的妻子艾米（罗莎蒙德·派克RosamundPike饰）以及全然看不见希望的婚姻。当他返回家中时，却发现客厅留下了暴行的痕迹，而妻子竟不见了踪影。女探员朗达·邦妮（金·迪肯斯KimDickens饰）接到报案后赶来调查，而现场留下的种种蛛丝马迹似乎昭示着这并非是一件寻常的失踪案，其背后或许隐藏着裂变于夫妻之情的谋杀罪行。艾米的失踪通过媒体大肆渲染和妄加揣测很快闻名全国，品行不端的尼克被推上风口浪尖，至今不见踪影的爱人对他进行无情审判，你侬我侬的甜言蜜语早已化作以血洗血的复仇与折磨…… \\n',\n       ' 老炮儿在北京话中，专指提笼遛鸟，无所事事的老混混儿。 \\n'], dtype='<U323')"
     },
     "metadata": {},
     "execution_count": 14
    }
   ],
   "source": [
    "read_original = read_txt(corpus)\n",
    "cos = {cosine(word_frequency(paper),word_frequency(search_word)):read_original[index_] for paper,index_ in zip(init_paper[search_paper_index],search_paper_index)}\n",
    "np.array(sorted(cos.items(), key=lambda x: x[0], reverse=True))[:,1]"
   ]
  },
  {
   "cell_type": "code",
   "execution_count": 15,
   "metadata": {},
   "outputs": [],
   "source": [
    "def search(key):\n",
    "    search_paper_index,search_word = search_inverted_index(key)\n",
    "    print(search_paper_index)\n",
    "    read_original = read_txt(corpus)\n",
    "    cos = {cosine(word_frequency(paper),word_frequency(search_word))    :read_original[index_] for paper,index_ in zip(init_paper           [search_paper_index],search_paper_index)}\n",
    "    return np.array(sorted(cos.items(), key=lambda x: x[0], reverse=True))[:,1]"
   ]
  },
  {
   "cell_type": "code",
   "execution_count": 14,
   "metadata": {
    "tags": []
   },
   "outputs": [
    {
     "output_type": "stream",
     "name": "stdout",
     "text": "北京 [78]\n爱情 [60, 92, 62, 84]\n[78 60 92 62 84]\n"
    },
    {
     "output_type": "execute_result",
     "data": {
      "text/plain": "array([' 故事发生在上世纪七十年代，寄人篱下的少女何小萍（苗苗饰）经过重重试炼终于加入了梦寐以求的文工团，哪知道这里和她曾经待过的那些地方并无不同，她依然得忍受遭人唾弃和欺侮的生活。唯一给过她温暖的，是刘峰（黄轩饰），不仅仅是对何小萍，被称为“活雷锋”的刘峰把自己的爱情和温暖无私的奉献给每一个人。 \\n',\n       ' 编号为223的警察（金城武）失恋后患上失恋综合症，在与金发女杀手（林青霞）擦肩而过又离奇相遇并有了一晚温情后，原本以为包括“爱情”在内的所有东西都有保质期的他意外地迎来心灵的短暂温暖。可是，他们的爱情还是结束了。 \\n',\n       ' 许多年前，亚特兰蒂斯女王（妮可·基德曼NicoleKidman饰）和人类相知相恋，共同孕育了爱情的结晶——后来被陆地人称为海王的亚瑟·库瑞（杰森·莫玛JasonMomoa饰）。在成长的过程中，亚瑟接受海底导师维科（威廉·达福WillemDafoe饰）的严苛训练，时刻渴望去看望母亲，然而作为混血的私生子这却是奢望。与此同时，亚瑟的同母异父兄弟奥姆（帕特里克·威尔森PatrickWilson饰）成为亚特兰蒂斯的国王，他不满陆地人类对大海的荼毒与污染，遂谋划联合其他海底王国发动对陆地的全面战争。为了阻止他的野心，维科和奥姆的未婚妻湄拉（艾梅柏·希尔德AmberHeard饰）将亚瑟带到海底世界。 \\n',\n       ' 结婚五周年纪念日的早上，尼克·邓恩（本·阿弗莱克BenAffleck饰）来到妹妹玛戈（凯莉·库恩CarrieCoon饰）的酒吧，咒骂抱怨那个曾经彼此恩爱缠绵的妻子艾米（罗莎蒙德·派克RosamundPike饰）以及全然看不见希望的婚姻。当他返回家中时，却发现客厅留下了暴行的痕迹，而妻子竟不见了踪影。女探员朗达·邦妮（金·迪肯斯KimDickens饰）接到报案后赶来调查，而现场留下的种种蛛丝马迹似乎昭示着这并非是一件寻常的失踪案，其背后或许隐藏着裂变于夫妻之情的谋杀罪行。艾米的失踪通过媒体大肆渲染和妄加揣测很快闻名全国，品行不端的尼克被推上风口浪尖，至今不见踪影的爱人对他进行无情审判，你侬我侬的甜言蜜语早已化作以血洗血的复仇与折磨…… \\n',\n       ' 老炮儿在北京话中，专指提笼遛鸟，无所事事的老混混儿。 \\n'], dtype='<U323')"
     },
     "metadata": {},
     "execution_count": 14
    }
   ],
   "source": [
    "search(\"北京爱情故事，女主角病死\")"
   ]
  },
  {
   "cell_type": "code",
   "execution_count": null,
   "metadata": {},
   "outputs": [],
   "source": []
  }
 ]
}