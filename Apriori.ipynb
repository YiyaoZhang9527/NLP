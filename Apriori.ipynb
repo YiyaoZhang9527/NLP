{
 "cells": [
  {
   "cell_type": "code",
   "execution_count": 100,
   "metadata": {},
   "outputs": [],
   "source": [
    "import numpy as np"
   ]
  },
  {
   "cell_type": "code",
   "execution_count": 101,
   "metadata": {},
   "outputs": [],
   "source": [
    "dataset = [['牛奶','洋葱','肉豆蔻','芸豆','鸡蛋','酸奶'],\n",
    "        ['莳萝','洋葱','肉豆蔻','芸豆','鸡蛋','酸奶'],\n",
    "        ['牛奶','苹果','芸豆','鸡蛋'],\n",
    "        ['牛奶','独角兽','玉米','芸豆','酸奶'],\n",
    "        ['玉米','洋葱','洋葱','芸豆','冰淇淋','鸡蛋']]"
   ]
  },
  {
   "cell_type": "code",
   "execution_count": 102,
   "metadata": {},
   "outputs": [
    {
     "output_type": "execute_result",
     "data": {
      "text/plain": "{'冰淇淋': array([[False, False, False, False, False, False],\n        [False, False, False, False, False, False],\n        [False, False, False, False, False, False],\n        [False, False, False, False, False, False],\n        [False, False, False, False,  True, False]]),\n '洋葱': array([[False,  True, False, False, False, False],\n        [False,  True, False, False, False, False],\n        [False, False, False, False, False, False],\n        [False, False, False, False, False, False],\n        [False,  True,  True, False, False, False]]),\n '牛奶': array([[ True, False, False, False, False, False],\n        [False, False, False, False, False, False],\n        [ True, False, False, False, False, False],\n        [ True, False, False, False, False, False],\n        [False, False, False, False, False, False]]),\n '独角兽': array([[False, False, False, False, False, False],\n        [False, False, False, False, False, False],\n        [False, False, False, False, False, False],\n        [False,  True, False, False, False, False],\n        [False, False, False, False, False, False]]),\n '玉米': array([[False, False, False, False, False, False],\n        [False, False, False, False, False, False],\n        [False, False, False, False, False, False],\n        [False, False,  True, False, False, False],\n        [ True, False, False, False, False, False]]),\n '肉豆蔻': array([[False, False,  True, False, False, False],\n        [False, False,  True, False, False, False],\n        [False, False, False, False, False, False],\n        [False, False, False, False, False, False],\n        [False, False, False, False, False, False]]),\n '芸豆': array([[False, False, False,  True, False, False],\n        [False, False, False,  True, False, False],\n        [False, False,  True, False, False, False],\n        [False, False, False,  True, False, False],\n        [False, False, False,  True, False, False]]),\n '苹果': array([[False, False, False, False, False, False],\n        [False, False, False, False, False, False],\n        [False,  True, False, False, False, False],\n        [False, False, False, False, False, False],\n        [False, False, False, False, False, False]]),\n '莳萝': array([[False, False, False, False, False, False],\n        [ True, False, False, False, False, False],\n        [False, False, False, False, False, False],\n        [False, False, False, False, False, False],\n        [False, False, False, False, False, False]]),\n '酸奶': array([[False, False, False, False, False,  True],\n        [False, False, False, False, False,  True],\n        [False, False, False, False, False, False],\n        [False, False, False, False,  True, False],\n        [False, False, False, False, False, False]]),\n '鸡蛋': array([[False, False, False, False,  True, False],\n        [False, False, False, False,  True, False],\n        [False, False, False,  True, False, False],\n        [False, False, False, False, False, False],\n        [False, False, False, False, False,  True]])}"
     },
     "metadata": {},
     "execution_count": 102
    }
   ],
   "source": [
    "def one_hot(dataset):\n",
    "    lenghts = np.array([len(row) for row in dataset])\n",
    "    max_lenght = lenghts.max()\n",
    "    zero_mat= np.zeros((max_lenght,len(lenghts)))\n",
    "    init_mat = np.array([dataset[i]+[0]*(max_lenght-lenghts[i]) for i in range(len(lenghts))])\n",
    "    distinct = np.unique(init_mat)\n",
    "    return {element:init_mat==element for element in distinct[distinct != '0']}\n",
    "    \n",
    "one_hot(dataset)"
   ]
  },
  {
   "cell_type": "code",
   "execution_count": null,
   "metadata": {},
   "outputs": [],
   "source": []
  }
 ],
 "metadata": {
  "language_info": {
   "codemirror_mode": {
    "name": "ipython",
    "version": 3
   },
   "file_extension": ".py",
   "mimetype": "text/x-python",
   "name": "python",
   "nbconvert_exporter": "python",
   "pygments_lexer": "ipython3",
   "version": "3.7.3-final"
  },
  "orig_nbformat": 2,
  "kernelspec": {
   "name": "pycharm-e0540ed6",
   "display_name": "PyCharm (InferenceSystem)"
  }
 },
 "nbformat": 4,
 "nbformat_minor": 2
}