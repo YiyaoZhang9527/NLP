{
 "cells": [
  {
   "cell_type": "code",
   "execution_count": 42,
   "metadata": {},
   "outputs": [],
   "source": [
    "# 实现参考 https://github.com/pytorch/examples/tree/master/word_language_model\n",
    "#! pip install torch #安装torch\n",
    "import torch\n",
    "import torch.nn as nn\n",
    "import numpy as np\n",
    "from torch.nn.utils import clip_grad_norm_\n",
    " \n",
    "class Dictionary(object):\n",
    "    '''\n",
    "    构建word2id,id2word两个字典\n",
    "    '''\n",
    "    def __init__(self):\n",
    "        self.word2idx = {} #字典 词到索引的映射\n",
    "        self.idx2word = {} #字典  索引到词的映射\n",
    "        self.idx = 0\n",
    "    \n",
    "    def add_word(self, word):\n",
    "        if not word in self.word2idx: #如果词到索引的映射字典中 不包含该词 则添加\n",
    "            self.word2idx[word] = self.idx \n",
    "            self.idx2word[self.idx] = word #同时创建索引到词的映射\n",
    "            self.idx += 1\n",
    "    \n",
    "    def __len__(self):\n",
    "        return len(self.word2idx) #词到索引映射的字典大小\n",
    " \n",
    " \n",
    "class Corpus(object):\n",
    "    '''\n",
    "    基于训练语料，构建字典(word2id,id2word)\n",
    "    '''\n",
    "    def __init__(self):\n",
    "        self.dictionary = Dictionary() #创建字典类对象\n",
    " \n",
    "    def get_data(self, path, batch_size=20):\n",
    "        # 添加词到字典\n",
    "        with open(path, 'r') as f:#读取文件\n",
    "            tokens = 0\n",
    "            for line in f:  #遍历文件中的每一行\n",
    "                words = line.split() + ['<eos>'] #以空格分隔 返回列表 并添加一个结束符<eos>\n",
    "                tokens += len(words)\n",
    "                for word in words: #将每个单词添加到字典中\n",
    "                    self.dictionary.add_word(word)  \n",
    "        \n",
    "        # 对文件做Tokenize\n",
    "        ids = torch.LongTensor(tokens)\n",
    "        token = 0\n",
    "        with open(path, 'r') as f:\n",
    "            for line in f:\n",
    "                words = line.split() + ['<eos>']\n",
    "                for word in words:\n",
    "                    ids[token] = self.dictionary.word2idx[word]\n",
    "                    token += 1\n",
    "        num_batches = ids.size(0) // batch_size\n",
    "        ids = ids[:num_batches*batch_size]\n",
    "        return ids.view(batch_size, -1)\n",
    "\n"
   ]
  },
  {
   "cell_type": "code",
   "execution_count": 43,
   "metadata": {},
   "outputs": [],
   "source": [
    "# 有gpu的情况下使用gpu\n",
    "#device = torch.device('cuda' if torch.cuda.is_available() else 'cpu')\n",
    "device = torch.device('cpu')"
   ]
  },
  {
   "cell_type": "code",
   "execution_count": 44,
   "metadata": {},
   "outputs": [],
   "source": [
    "# 超参数的设定\n",
    "embed_size = 128    # 词嵌入的维度\n",
    "hidden_size = 1024  # 使用RNN变种LSTM单元   LSTM的hidden size\n",
    "num_layers = 1      #循环单元/LSTM单元的层数\n",
    "num_epochs = 5      # 迭代轮次\n",
    "num_samples = 1000  # 测试语言模型生成句子时的样本数\n",
    "batch_size = 20     # 一批样本的数量\n",
    "seq_length = 30     # 一个样本/序列长度\n",
    "learning_rate = 0.002 # 学习率"
   ]
  },
  {
   "cell_type": "markdown",
   "metadata": {},
   "source": [
    "import pandas as pd\n",
    "table = pd.read_excel('/Users/manmanzhang/Library/Mobile Documents/com~apple~CloudDocs/MyProject/InferenceSystem/src/I5_algorithm/NLP数据集合/豆瓣电影数据集(2019.3)/豆瓣电影数据集(2019.3).xlsx')\n"
   ]
  },
  {
   "cell_type": "markdown",
   "metadata": {},
   "source": [
    "text = ''.join(['{}{}'.format(w,' \\n ') for w in table.剧情简介[pd.isna(table.剧情简介)==False]])\n",
    "path = '/Users/manmanzhang/Library/Mobile Documents/com~apple~CloudDocs/MyProject/InferenceSystem/src/I5_algorithm/NLP数据集合/豆瓣电影数据集(2019.3)/豆瓣电影简介.txt'\n",
    "with open(path,'w+') as f:\n",
    "    f.write(text)\n",
    "f.close()"
   ]
  },
  {
   "cell_type": "code",
   "execution_count": 45,
   "metadata": {},
   "outputs": [],
   "source": [
    "# 加载数据集\n",
    "corpus = Corpus()\n",
    "ids = corpus.get_data(path, batch_size)\n",
    "vocab_size = len(corpus.dictionary)\n",
    "num_batches = ids.size(1) // seq_length"
   ]
  },
  {
   "cell_type": "code",
   "execution_count": 46,
   "metadata": {},
   "outputs": [],
   "source": [
    "# RNN语言模型\n",
    "class RNNLM(nn.Module): #RNNLM类继承nn.Module类\n",
    "    def __init__(self, vocab_size, embed_size, hidden_size, num_layers):\n",
    "        super(RNNLM, self).__init__()\n",
    "        #嵌入层 one-hot形式(vocab_size,1) -> (embed_size,1)\n",
    "        self.embed = nn.Embedding(vocab_size, embed_size)\n",
    "        #LSTM单元/循环单元\n",
    "        self.lstm = nn.LSTM(embed_size, hidden_size, num_layers, batch_first=True)\n",
    "        #输出层的全联接操作  \n",
    "        self.linear = nn.Linear(hidden_size, vocab_size)\n",
    "        \n",
    "    def forward(self, x, h):\n",
    "        # 词嵌入\n",
    "        x = self.embed(x)\n",
    "        \n",
    "        # LSTM前向运算\n",
    "        out,(h,c) = self.lstm(x,h)\n",
    " \n",
    "        # 每个时间步骤上LSTM单元都会有一个输出，batch_size个样本并行计算(每个样本/序列长度一致)  out (batch_size,sequence_length,hidden_size)\n",
    "        # 把LSTM的输出结果变更为(batch_size*sequence_length, hidden_size)的维度\n",
    "        out = out.reshape(out.size(0)*out.size(1),out.size(2))\n",
    "        # 全连接\n",
    "        out = self.linear(out) #(batch_size*sequence_length, hidden_size)->(batch_size*sequence_length, vacab_size)\n",
    "        \n",
    "        return out,(h,c)\n",
    " \n",
    "model = RNNLM(vocab_size, embed_size, hidden_size, num_layers).to(device)\n",
    "\n"
   ]
  },
  {
   "cell_type": "code",
   "execution_count": 47,
   "metadata": {},
   "outputs": [],
   "source": [
    "# 损失构建与优化\n",
    "criterion = nn.CrossEntropyLoss() #交叉熵损失\n",
    "#使用Adam优化方法 最小化损失 优化更新模型参数 \n",
    "optimizer = torch.optim.Adam(model.parameters(), lr=learning_rate)"
   ]
  },
  {
   "cell_type": "code",
   "execution_count": 48,
   "metadata": {
    "tags": []
   },
   "outputs": [
    {
     "output_type": "stream",
     "name": "stdout",
     "text": "全量数据迭代轮次 [1/5], Step数[0/219], 损失Loss: 11.1099, 困惑度/Perplexity: 66829.60\n全量数据迭代轮次 [1/5], Step数[100/219], 损失Loss: 11.1135, 困惑度/Perplexity: 67071.66\n全量数据迭代轮次 [1/5], Step数[200/219], 损失Loss: 11.1118, 困惑度/Perplexity: 66953.68\n全量数据迭代轮次 [2/5], Step数[0/219], 损失Loss: 11.1099, 困惑度/Perplexity: 66829.60\n全量数据迭代轮次 [2/5], Step数[100/219], 损失Loss: 11.1135, 困惑度/Perplexity: 67071.66\n全量数据迭代轮次 [2/5], Step数[200/219], 损失Loss: 11.1118, 困惑度/Perplexity: 66953.68\n全量数据迭代轮次 [3/5], Step数[0/219], 损失Loss: 11.1099, 困惑度/Perplexity: 66829.60\n全量数据迭代轮次 [3/5], Step数[100/219], 损失Loss: 11.1135, 困惑度/Perplexity: 67071.66\n全量数据迭代轮次 [3/5], Step数[200/219], 损失Loss: 11.1118, 困惑度/Perplexity: 66953.68\n全量数据迭代轮次 [4/5], Step数[0/219], 损失Loss: 11.1099, 困惑度/Perplexity: 66829.60\n全量数据迭代轮次 [4/5], Step数[100/219], 损失Loss: 11.1135, 困惑度/Perplexity: 67071.66\n全量数据迭代轮次 [4/5], Step数[200/219], 损失Loss: 11.1118, 困惑度/Perplexity: 66953.68\n全量数据迭代轮次 [5/5], Step数[0/219], 损失Loss: 11.1099, 困惑度/Perplexity: 66829.60\n全量数据迭代轮次 [5/5], Step数[100/219], 损失Loss: 11.1135, 困惑度/Perplexity: 67071.66\n全量数据迭代轮次 [5/5], Step数[200/219], 损失Loss: 11.1118, 困惑度/Perplexity: 66953.68\n"
    }
   ],
   "source": [
    "# 反向传播过程“截断”(不复制gradient)\n",
    "def detach(states):\n",
    "    return [state.detach() for state in states] \n",
    " \n",
    "# 训练模型\n",
    "for epoch in range(num_epochs):\n",
    "    # 初始化为0\n",
    "    states = (torch.zeros(num_layers,batch_size,hidden_size).to(device),\n",
    "             torch.zeros(num_layers,batch_size,hidden_size).to(device))\n",
    "    \n",
    "    for i in range(0, ids.size(1) - seq_length, seq_length):\n",
    "        # 获取一个mini batch的输入和输出(标签)\n",
    "        inputs = ids[:,i:i+seq_length].to(device)\n",
    "        targets = ids[:,(i+1):(i+1)+seq_length].to(device) # 输出相对输入错一位，往后顺延一个单词\n",
    "        \n",
    "        # 前向运算\n",
    "        states = detach(states)\n",
    "        outputs,states = model(inputs,states)\n",
    "        loss = criterion(outputs,targets.reshape(-1))\n",
    "        \n",
    "        # 反向传播与优化\n",
    "        model.zero_grad()\n",
    "        loss.backward()\n",
    "        clip_grad_norm_(model.parameters(),0.5)\n",
    " \n",
    "        step = (i+1) // seq_length\n",
    "        if step % 100 == 0:\n",
    "            print ('全量数据迭代轮次 [{}/{}], Step数[{}/{}], 损失Loss: {:.4f}, 困惑度/Perplexity: {:5.2f}'\n",
    "                   .format(epoch+1, num_epochs, step, num_batches, loss.item(), np.exp(loss.item())))\n",
    "\n"
   ]
  },
  {
   "cell_type": "code",
   "execution_count": 49,
   "metadata": {
    "tags": []
   },
   "outputs": [
    {
     "output_type": "stream",
     "name": "stdout",
     "text": "生成了 [100/1000] 个词，存储到 sample.txt\n生成了 [200/1000] 个词，存储到 sample.txt\n生成了 [300/1000] 个词，存储到 sample.txt\n生成了 [400/1000] 个词，存储到 sample.txt\n生成了 [500/1000] 个词，存储到 sample.txt\n生成了 [600/1000] 个词，存储到 sample.txt\n生成了 [700/1000] 个词，存储到 sample.txt\n生成了 [800/1000] 个词，存储到 sample.txt\n生成了 [900/1000] 个词，存储到 sample.txt\n生成了 [1000/1000] 个词，存储到 sample.txt\n"
    }
   ],
   "source": [
    "# 测试语言模型\n",
    "with torch.no_grad():\n",
    "    with open('sample.txt', 'w') as f:\n",
    "        # 初始化为0\n",
    "        state = (torch.zeros(num_layers, 1, hidden_size).to(device),\n",
    "                 torch.zeros(num_layers, 1, hidden_size).to(device))\n",
    " \n",
    "        # 随机选择一个词作为输入\n",
    "        prob = torch.ones(vocab_size)\n",
    "        input = torch.multinomial(prob, num_samples=1).unsqueeze(1).to(device)\n",
    " \n",
    "        for i in range(num_samples):\n",
    "            # 从输入词开始，基于语言模型前推计算\n",
    "            output, state = model(input, state)\n",
    " \n",
    "            # 做预测\n",
    "            prob = output.exp()\n",
    "            word_id = torch.multinomial(prob, num_samples=1).item()\n",
    " \n",
    "            # 填充预估结果（为下一次预估储备输入数据）\n",
    "            input.fill_(word_id)\n",
    " \n",
    "            # 写出输出结果\n",
    "            word = corpus.dictionary.idx2word[word_id]\n",
    "            word = '\\n' if word == '<eos>' else word + ' '\n",
    "            f.write(word)\n",
    " \n",
    "            if (i+1) % 100 == 0:\n",
    "                print('生成了 [{}/{}] 个词，存储到 {}'.format(i+1, num_samples, 'sample.txt'))\n",
    " \n",
    "# 存储模型的保存点(checkpoints)\n",
    "torch.save(model.state_dict(), 'model.ckpt')\n",
    "\n"
   ]
  }
 ],
 "metadata": {
  "language_info": {
   "codemirror_mode": {
    "name": "ipython",
    "version": 3
   },
   "file_extension": ".py",
   "mimetype": "text/x-python",
   "name": "python",
   "nbconvert_exporter": "python",
   "pygments_lexer": "ipython3",
   "version": "3.7.6-final"
  },
  "orig_nbformat": 2,
  "kernelspec": {
   "name": "pycharm-66c53067",
   "display_name": "PyCharm (InferenceSystem)"
  }
 },
 "nbformat": 4,
 "nbformat_minor": 2
}