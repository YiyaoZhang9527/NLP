{
 "cells": [
  {
   "cell_type": "code",
   "execution_count": 1,
   "metadata": {},
   "outputs": [],
   "source": [
    "import numpy as np"
   ]
  },
  {
   "cell_type": "code",
   "execution_count": 2,
   "metadata": {
    "tags": []
   },
   "outputs": [],
   "source": [
    "\n",
    "from PIL import Image\n",
    "import pytesseract\n",
    "import argparse\n",
    "import cv2\n",
    "import os\n",
    " \n"
   ]
  },
  {
   "cell_type": "code",
   "execution_count": 3,
   "metadata": {},
   "outputs": [],
   "source": [
    "URL = \"/Users/manmanzhang/Library/Mobile Documents/com~apple~CloudDocs/MyProject/InferenceSystem/src/I5_algorithm/OCR部分/7F2ACB09-422F-4214-BA20-C8A04F4D727E.png\""
   ]
  },
  {
   "cell_type": "code",
   "execution_count": 4,
   "metadata": {
    "tags": []
   },
   "outputs": [
    {
     "output_type": "execute_result",
     "data": {
      "text/plain": "['iBMiZiX iE: farok crrrok hihok yorok clok kantok ok-yurp',\n 'la. ok-voon ororok sprok .',\n '1b. at-voon bichat dat .',\n '2a. ok-drubel ok-voon anok plok sprok .',\n '2b. at-drubel at-voon pippat rrat dat .',\n '3a. erok sprok izok hihok ghirok .',\n '3b. totat dat arrat vat hilat .',\n '4a. ok-voon anok drok brok jok .',\n '4b. at-voon krat pippat sat lat .',\n 'Sa. wiwok farok izok stok .',\n '5b. totat jjat quat cat .',\n '6a. lalok sprok izok jok stok .',\n '6b. wat dat krat quat cat .',\n 'Ta. lalok farok ororok lalok sprok izok enemok .',\n '7b. wat jjat bichat wat dat vat eneat .',\n '8a. lalok brok anok plok nok .',\n '8b. iat lat pippat rrat npat .',\n '9a. wiwok nok izok “pms -',\n '9b. totat nnat quat oloat at-yurp .',\n '10a. lalok mok nok yorok ghirok clok .',\n '10b. wat nnat gat mat bat hilat .',\n '11a. lalok nok crrrok hihok yorok zanzanok .',\n '11b. wat nnat arrat mat zanzanat .',\n '12a. lalok rarok nok izok hihok mok .',\n '12b. wat nnat forat arrat vat gat .']"
     },
     "metadata": {},
     "execution_count": 4
    }
   ],
   "source": [
    "import pytesseract\n",
    "from PIL import Image\n",
    "\n",
    "\n",
    "im_en = Image.open(URL)\n",
    "\n",
    "data = [i for i in pytesseract.image_to_string(im_en).splitlines() if len(i) > 0 and i != '/']\n",
    "data"
   ]
  },
  {
   "cell_type": "markdown",
   "metadata": {},
   "source": [
    "# 原文"
   ]
  },
  {
   "cell_type": "code",
   "execution_count": 5,
   "metadata": {},
   "outputs": [
    {
     "output_type": "execute_result",
     "data": {
      "text/plain": "array(['farok', 'crrrok', 'hihok', 'yorok', 'clok', 'kantok', 'ok-yurp'],\n      dtype='<U7')"
     },
     "metadata": {},
     "execution_count": 5
    }
   ],
   "source": [
    "original = np.array(data[0].split(': ')[-1].split(' '))\n",
    "original"
   ]
  },
  {
   "cell_type": "markdown",
   "metadata": {},
   "source": [
    "# 语料"
   ]
  },
  {
   "cell_type": "code",
   "execution_count": 6,
   "metadata": {},
   "outputs": [],
   "source": [
    "\n",
    "def Split(tokenization,n=2):\n",
    "    math = __import__(\"math\")\n",
    "    return [tokenization[i*n:i*n+n] for i in range(len(tokenization)//2)]"
   ]
  },
  {
   "cell_type": "code",
   "execution_count": 7,
   "metadata": {},
   "outputs": [
    {
     "output_type": "execute_result",
     "data": {
      "text/plain": "[[' ok-voon ororok sprok ', ' at-voon bichat dat '],\n [' ok-drubel ok-voon anok plok sprok ',\n  ' at-drubel at-voon pippat rrat dat '],\n [' erok sprok izok hihok ghirok ', ' totat dat arrat vat hilat '],\n [' ok-voon anok drok brok jok ', ' at-voon krat pippat sat lat '],\n [' wiwok farok izok stok ', ' totat jjat quat cat '],\n [' lalok sprok izok jok stok ', ' wat dat krat quat cat '],\n [' lalok farok ororok lalok sprok izok enemok ',\n  ' wat jjat bichat wat dat vat eneat '],\n [' lalok brok anok plok nok ', ' iat lat pippat rrat npat '],\n [' wiwok nok izok “pms -', ' totat nnat quat oloat at-yurp '],\n [' lalok mok nok yorok ghirok clok ', ' wat nnat gat mat bat hilat '],\n [' lalok nok crrrok hihok yorok zanzanok ', ' wat nnat arrat mat zanzanat '],\n [' lalok rarok nok izok hihok mok ', ' wat nnat forat arrat vat gat ']]"
     },
     "metadata": {},
     "execution_count": 7
    }
   ],
   "source": [
    "corpus_list = [i.split(\".\")[1] for i in data[1:]]\n",
    "corpus = Split(corpus_list)\n",
    "corpus"
   ]
  },
  {
   "cell_type": "markdown",
   "metadata": {},
   "source": [
    "# 统计翻译系统转译"
   ]
  },
  {
   "cell_type": "code",
   "execution_count": 8,
   "metadata": {},
   "outputs": [],
   "source": [
    "def set_word(sentence):\n",
    "    return np.array(list(filter(lambda x : x != '' , sentence.split(' '))))"
   ]
  },
  {
   "cell_type": "code",
   "execution_count": 9,
   "metadata": {},
   "outputs": [],
   "source": [
    "def statistical(corpus):\n",
    "    n = -1\n",
    "    tn = 0\n",
    "    i_n = -1\n",
    "    result_t,result_w = [],[]\n",
    "    for sentence in corpus:\n",
    "        n += 1\n",
    "        word_left , word_right = set_word(sentence[0]),set_word(sentence[-1])\n",
    "        temp1 = np.intersect1d(word_left,original) \n",
    "        if temp1.size > 0:\n",
    "        \n",
    "            for t in temp1:\n",
    "                t,w = t,word_right[np.argwhere(word_left==t)[0][0]]\n",
    "                if t in result_t:\n",
    "                    tn += 1\n",
    "                    index_number = result_t.index(t)\n",
    "                    result_w.insert(index_number,(index_number,tn,w))\n",
    "                else:\n",
    "                    i_n += 1\n",
    "                    tn = 0\n",
    "                    result_t.append(t)\n",
    "                    result_w.append((i_n,tn,w))\n",
    "    return result_t,sorted(result_w)"
   ]
  },
  {
   "cell_type": "code",
   "execution_count": 10,
   "metadata": {},
   "outputs": [
    {
     "output_type": "execute_result",
     "data": {
      "text/plain": "(['hihok', 'farok', 'clok', 'yorok', 'crrrok'],\n [(0, 0, 'vat'),\n  (0, 1, 'mat'),\n  (0, 3, 'vat'),\n  (1, 0, 'jjat'),\n  (1, 1, 'jjat'),\n  (2, 0, 'hilat'),\n  (3, 0, 'mat'),\n  (3, 2, 'zanzanat'),\n  (4, 0, 'arrat')])"
     },
     "metadata": {},
     "execution_count": 10
    }
   ],
   "source": [
    "statistical(corpus)"
   ]
  },
  {
   "cell_type": "code",
   "execution_count": 11,
   "metadata": {},
   "outputs": [],
   "source": [
    "def translation(original):\n",
    "    result_t,result_w = statistical(corpus)\n",
    "    encode_dict = dict()\n",
    "    temp_number = 0\n",
    "    for t in result_t:\n",
    "        temp_number += 1\n",
    "        temp_index_str = \"{}{}\".format(temp_number,t)\n",
    "        temp_name_str = \"{}{}{}\".format(temp_number,t,t)\n",
    "        temp_index,temp_name = [],[]\n",
    "        for w in result_w:\n",
    "            if result_t[w[0]]==t:\n",
    "                temp_index.append(w[1])\n",
    "                temp_name.append(w[-1])\n",
    "        max_index = temp_index.index(max(temp_index))\n",
    "        temp_dict = {t:(temp_name[max_index],temp_name)}\n",
    "        encode_dict.update(temp_dict)\n",
    "    result = {i:i in result_t and encode_dict[i] or 'error' for i in original }\n",
    "    return {\"encode dict\":encode_dict,\"translation\":result}"
   ]
  },
  {
   "cell_type": "code",
   "execution_count": 12,
   "metadata": {},
   "outputs": [
    {
     "output_type": "execute_result",
     "data": {
      "text/plain": "{'encode dict': {'hihok': ('vat', ['vat', 'mat', 'vat']),\n  'farok': ('jjat', ['jjat', 'jjat']),\n  'clok': ('hilat', ['hilat']),\n  'yorok': ('zanzanat', ['mat', 'zanzanat']),\n  'crrrok': ('arrat', ['arrat'])},\n 'translation': {'farok': ('jjat', ['jjat', 'jjat']),\n  'crrrok': ('arrat', ['arrat']),\n  'hihok': ('vat', ['vat', 'mat', 'vat']),\n  'yorok': ('zanzanat', ['mat', 'zanzanat']),\n  'clok': ('hilat', ['hilat']),\n  'kantok': 'error',\n  'ok-yurp': 'error'}}"
     },
     "metadata": {},
     "execution_count": 12
    }
   ],
   "source": [
    "translation(original)"
   ]
  },
  {
   "cell_type": "markdown",
   "metadata": {},
   "source": [
    "# 翻译结果"
   ]
  },
  {
   "cell_type": "code",
   "execution_count": 13,
   "metadata": {},
   "outputs": [
    {
     "output_type": "execute_result",
     "data": {
      "text/plain": "{'farok': ('jjat', ['jjat', 'jjat']),\n 'crrrok': ('arrat', ['arrat']),\n 'hihok': ('vat', ['vat', 'mat', 'vat']),\n 'yorok': ('zanzanat', ['mat', 'zanzanat']),\n 'clok': ('hilat', ['hilat']),\n 'kantok': 'error',\n 'ok-yurp': 'error'}"
     },
     "metadata": {},
     "execution_count": 13
    }
   ],
   "source": [
    "translation(original)['translation']"
   ]
  },
  {
   "cell_type": "markdown",
   "metadata": {},
   "source": [
    "# 缺点：\n",
    "## 1 慢，\n",
    "## 2 无法考虑语境，\n",
    "## 3 还有语法也是不对的，\n",
    "## 4 因为是按照单词对应顺序，\n",
    "## 5 需要大量的规则统计，\n",
    "## 6 所以没有实用性"
   ]
  },
  {
   "cell_type": "markdown",
   "metadata": {},
   "source": [
    "### 今晚 ｜ 的 ｜ 课程 ｜ 有意思 <-- Broken English --> tonight｜ of ｜ the course ｜ interesting\n",
    "<img src=\"/Users/manmanzhang/Library/Mobile Documents/com~apple~CloudDocs/MyProject/InferenceSystem/src/I5_algorithm/NLP训练营笔记/图片/52DF7BD1-F1B2-49A7-ABDF-EFB26446FAAB.png\">"
   ]
  },
  {
   "cell_type": "code",
   "execution_count": 15,
   "metadata": {},
   "outputs": [],
   "source": [
    "chinese = \"今晚\",\"的\",\"课程\",\"有意思\"\n",
    "english = \"tonight\",\"of\",\"the course\",\"interesting\""
   ]
  }
 ],
 "metadata": {
  "language_info": {
   "codemirror_mode": {
    "name": "ipython",
    "version": 3
   },
   "file_extension": ".py",
   "mimetype": "text/x-python",
   "name": "python",
   "nbconvert_exporter": "python",
   "pygments_lexer": "ipython3",
   "version": "3.7.6-final"
  },
  "orig_nbformat": 2,
  "kernelspec": {
   "name": "pycharm-66c53067",
   "display_name": "PyCharm (InferenceSystem)"
  }
 },
 "nbformat": 4,
 "nbformat_minor": 2
}