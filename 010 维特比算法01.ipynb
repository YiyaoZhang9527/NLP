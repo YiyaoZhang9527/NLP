{
 "cells": [
  {
   "cell_type": "code",
   "execution_count": 1,
   "metadata": {},
   "outputs": [],
   "source": [
    "import numpy as np\n",
    "word_dict =  {\"经常\":0.1,\"经\":0.05,\"有\":0.1, \"常\":0.001,\"有意见\":0.1, \"歧\":0.001,\"意见\":0.2,\"分歧\":0.2,\"见\":0.05,\"意\":0.05,\"见分歧\":0.05,\"分\":0.1}\n",
    "\n",
    "Dict =  {\"经常\":0.1,\"经\":0.05,\"有\":0.1, \"常\":0.001,\"有意见\":0.1, \"歧\":0.001,\"意见\":0.2,\"分歧\":0.2,\"见\":0.05,\"意\":0.05,\"见分歧\":0.05,\"分\":0.1}\n",
    "words = [\"经常\",\"经\",\"有\",\"有意见\",\"意见\",\"分歧\",\"见\",\"意\",\"见分歧\",\"分\"]\n",
    "prob_list = [0.1,0.05,0.1,0.1,0.2,0.2,0.05,0.05,0.05,0.1]\n",
    "#word_dict = dict(zip(words,-np.log(prob_list)))\n",
    "#word_dict"
   ]
  },
  {
   "cell_type": "markdown",
   "metadata": {
    "tags": []
   },
   "source": [
    "def DAG(sentence):\n",
    "        DAG = {}    #DAG空字典，用来构建DAG有向无环图\n",
    "        N = len(sentence)\n",
    "        for k in range(N):\n",
    "            tmplist = [] \n",
    "            i = k\n",
    "            frag = sentence[k]\n",
    "            while i < N:\n",
    "                if frag in Dict:\n",
    "                    tmplist.append(i) \n",
    "                i += 1      \n",
    "                frag = sentence[k:i + 1] \n",
    "            if not tmplist:\n",
    "                tmplist.append(k)\n",
    "            DAG[k] = tmplist\n",
    "        return DAG\n",
    "print(DAG(\"经常有意见分歧\"))\n",
    "\n",
    "sentence =\"经常有意见分歧\"\n",
    "N=len(sentence)\n",
    "route={}\n",
    "route[N] = (0, 0)\n",
    "DAG={0: [0, 1], 1: [1], 2: [2, 4], 3: [3, 4], 4: [4, 6], 5: [5, 6], 6: [6]}\n",
    "for idx in range(N - 1, -1, -1):\n",
    "    distance = (((Dict.get(sentence[idx:x + 1]) or 0) + route[x + 1][0], x) for x in DAG[idx])\n",
    "    route[idx] = max(distance)                   \n",
    "x = 0\n",
    "segs = []\n",
    "while x < N:\n",
    "    y = route[x][1] + 1\n",
    "    word = sentence[x:y]\n",
    "    segs.append(word)\n",
    "    x = y\n",
    "print(segs)"
   ]
  },
  {
   "cell_type": "code",
   "execution_count": 3,
   "metadata": {
    "tags": []
   },
   "outputs": [
    {
     "output_type": "execute_result",
     "data": {
      "text/plain": "(18.18832306303202,\n ['我',\n  '们',\n  '经常',\n  '有',\n  '意见',\n  '分歧',\n  '，',\n  '这',\n  '是',\n  '没',\n  '有',\n  '办',\n  '法',\n  '的',\n  '意见',\n  '分歧'],\n {0: [0],\n  1: [1],\n  2: [2, 3],\n  3: [3],\n  4: [4, 6],\n  5: [5, 6],\n  6: [6, 8],\n  7: [7, 8],\n  8: [8],\n  9: [9],\n  10: [10],\n  11: [11],\n  12: [12],\n  13: [13],\n  14: [14],\n  15: [15],\n  16: [16],\n  17: [17, 18],\n  18: [18, 20],\n  19: [19, 20],\n  20: [20]})"
     },
     "metadata": {},
     "execution_count": 3
    }
   ],
   "source": [
    "def viterbi_split_word(sentence,dictionaries):\n",
    "    math = __import__('math')\n",
    "    lenht_of_seq = len(sentence)\n",
    "    def directed_acyclic_graph(sentence):\n",
    "        DAG = {} \n",
    "        for end in range(lenht_of_seq):\n",
    "            tmp = [] \n",
    "            start = end\n",
    "            point = sentence[end]\n",
    "            for start in range(start,lenht_of_seq):\n",
    "                if point in word_dict:\n",
    "                    tmp.append(start)  \n",
    "                point = sentence[end:start + 2] \n",
    "            if not tmp:\n",
    "                tmp.append(end)\n",
    "            DAG[end] = tmp\n",
    "        return DAG\n",
    "    route={}\n",
    "    route[lenht_of_seq] = (0, 0)\n",
    "    DAG = directed_acyclic_graph(sentence)\n",
    "    for reverse_start in range(lenht_of_seq - 1, -1, -1):\n",
    "        distance = (((word_dict.get(sentence[reverse_start:start + 1]) or 0) + route[start + 1][0], start) for start in DAG[reverse_start])\n",
    "        route[reverse_start] = max(distance)                   \n",
    "    start = 0\n",
    "    words = []\n",
    "    while start < lenht_of_seq:\n",
    "        init_start = route[start][1] + 1\n",
    "        word = sentence[start:init_start]\n",
    "        words.append(word)\n",
    "        start = init_start\n",
    "    return (sum(i[0]==0 and 10**(-8) or -math.log(i[0]) for i in route.values()),words,DAG)\n",
    "viterbi_split_word(sentence =\"我们经常有意见分歧，这是没有办法的意见分歧\",dictionaries=word_dict)"
   ]
  },
  {
   "cell_type": "code",
   "execution_count": null,
   "metadata": {},
   "outputs": [],
   "source": []
  }
 ],
 "metadata": {
  "language_info": {
   "codemirror_mode": {
    "name": "ipython",
    "version": 3
   },
   "file_extension": ".py",
   "mimetype": "text/x-python",
   "name": "python",
   "nbconvert_exporter": "python",
   "pygments_lexer": "ipython3",
   "version": "3.7.6-final"
  },
  "orig_nbformat": 2,
  "kernelspec": {
   "name": "pycharm-66c53067",
   "display_name": "PyCharm (InferenceSystem)"
  }
 },
 "nbformat": 4,
 "nbformat_minor": 2
}