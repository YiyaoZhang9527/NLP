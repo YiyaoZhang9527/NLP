{
 "cells": [
  {
   "cell_type": "markdown",
   "metadata": {},
   "source": [
    "# 问题可以归类成\n",
    "## P 是常数项\n",
    "## 指数级 $$ O(P^n) $$\n",
    "## 多项式 $$ O(n^p) ， O(nlog(n))$$\n",
    "\n",
    "## 多项式复杂度是可以解决的问题\n",
    "## 指数级复杂度是不可以解决的问题\n",
    "### 1.对于小型问题，仍然采用 $ O(P^n) $ \n",
    "### 2.对于大型问题，采用近似算法，降低到多项式复杂度，但是不能保证精确解\n",
    "### 3.量子计算机"
   ]
  }
 ],
 "metadata": {
  "language_info": {
   "codemirror_mode": {
    "name": "ipython",
    "version": 3
   },
   "file_extension": ".py",
   "mimetype": "text/x-python",
   "name": "python",
   "nbconvert_exporter": "python",
   "pygments_lexer": "ipython3",
   "version": 3
  },
  "orig_nbformat": 2
 },
 "nbformat": 4,
 "nbformat_minor": 2
}