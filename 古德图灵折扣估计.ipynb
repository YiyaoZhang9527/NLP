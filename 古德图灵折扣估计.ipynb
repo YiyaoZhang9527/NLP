{
 "metadata": {
  "language_info": {
   "codemirror_mode": {
    "name": "ipython",
    "version": 3
   },
   "file_extension": ".py",
   "mimetype": "text/x-python",
   "name": "python",
   "nbconvert_exporter": "python",
   "pygments_lexer": "ipython3",
   "version": "3.7.6-final"
  },
  "orig_nbformat": 2,
  "kernelspec": {
   "name": "python_defaultSpec_1597870572979",
   "display_name": "Python 3.7.6 64-bit"
  }
 },
 "nbformat": 4,
 "nbformat_minor": 2,
 "cells": [
  {
   "cell_type": "code",
   "execution_count": 8,
   "metadata": {
    "tags": []
   },
   "outputs": [
    {
     "output_type": "stream",
     "name": "stdout",
     "text": "请输入您要查找的文件名：\n查无此文件\n"
    }
   ],
   "source": [
    "import torch\n",
    "import numpy as np\n",
    "import os       \n",
    "import sys \n",
    "\n",
    "def search(path,name):\n",
    "    for root, dirs, files in os.walk(path):  # path 为根目录\n",
    "        if name in dirs or name in files:\n",
    "            flag = 1      #判断是否找到文件\n",
    "            root = str(root)\n",
    "            dirs = str(dirs)\n",
    "            return os.path.join(root, dirs)\n",
    "    return -1\n",
    "\n",
    "path = input('请输入您要查找哪个盘中的文件（如：D:\\\\\\）')\n",
    "print('请输入您要查找的文件名：')\n",
    "name = sys.stdin.readline().rstrip()  #标准输入,其中rstrip()函数把字符串结尾的空白和回车删除\n",
    "answer = search(path,name)\n",
    "if answer == -1:\n",
    "    print(\"查无此文件\")\n",
    "else:\n",
    "    print(answer)"
   ]
  },
  {
   "cell_type": "code",
   "execution_count": 32,
   "metadata": {
    "tags": []
   },
   "outputs": [
    {
     "output_type": "stream",
     "name": "stdout",
     "text": "发现文件夹:./\n['020 语言模型优化.ipynb', '南方网新闻搜索.ipynb', '001 利用服务器传文件.ipynb', 'N-gram 语言模型.ipynb', 'prob_trans.py', '005 斐波那契数.ipynb', 'prob_emit.py', '014 停用词过滤.ipynb', '008 分词算法 Max Matching.ipynb', '012 生成单词 .ipynb', 'NGram语言模型.ipynb', '009 语意理解.ipynb', '南方网 3.csv', 'Apriori.ipynb', '015 倒排表.ipynb', '南方网 2.csv', '022 词性标注.ipynb', '011 编辑距离00.ipynb', 'NLTK实现词性标注.ipynb', '016 搜索技术 （南方网）新闻搜索模块.ipynb', '016 NoisyChannelModel.ipynb', '000 02 包技巧 OS 模块 操作.ipynb', '019 马尔科夫假设.ipynb', '014 相似度计算与文本表示.ipynb', '004 时间复杂度.ipynb', '018 Chain Rule和Markov Assumption.ipynb', '维特比算法.ipynb', '词性标注概率转移矩阵.csv', '测试julia.ipynb', 'shell编程测试', '003 NLP 机器翻译005.ipynb', '002 NLP定义与歧义 统计对照翻译.ipynb', 'NLP 假新闻检测 .ipynb', '新闻搜索模块.ipynb', '字节跳动', '字节跳动特朗普', '南方网.csv', '006 P vs NP vs NP Hard vs NP complete.ipynb', 'RNN_LSTM语言模型.ipynb', '010 维特比算法01.ipynb', 'model.ckpt', 'prob_start.py', '特朗普', '013 最大似然估计做拼写纠正.ipynb', '021 线性代数与随机漫步.ipynb', '007 搭建一个智能客服系统.ipynb', 'RUSTdemo.rs', 'ONE-HOT.ipynb', '古德图灵折扣估计.ipynb', 'sample.txt', 'RUST学习笔记.ipynb']\n发现文件夹:./图片\n['5A262195-71C6-4DE9-82A8-8F718E85A53B.png', 'A206E9A5-952F-404F-8556-F31333653587.png', '3BFFF524-0123-4626-88D7-60B5B467299F.png', '78E05D72-F695-439D-8763-FBCAE811F877.png', 'BEEAE46F-1CA2-41EC-AB1C-A4E66BDE502F.png', '475C3871-B0C4-4EEB-A01A-ADE41045B620.png', 'D11D6897-CF50-4291-BA93-1556DEE145FB.png', '52DF7BD1-F1B2-49A7-ABDF-EFB26446FAAB.png', '8099CA5B-5D95-4CF0-A7A4-79EA70F4EF59.png', '1CF5E65C-7355-49A1-935E-261E3BBAF04D.png', '分词1.png', '7596032B-41A9-40DA-8B17-CE4CCA5B8038.png', 'CC8FF45A-202C-4C53-93E4-4C4BB836B533.png', '2537974B-8D80-4339-8774-C1EC4023BEF3.png', 'B1F3D0BC-005D-4593-8D9F-E6016CB0AE61.png', 'userdict.txt', '7331A0A6-0DCF-4EBE-AEF9-6D4C8F0478B4.png', 'B3156689-5DD6-405E-996D-9F7A83DE3DD8.png', 'BEB069CB-276B-44BF-88AE-1AA9B8AD2FCE.png', '721DBA2E-36FA-40A6-B5CB-51F4F42EDDCE.png', 'F848AACF-EF57-41C0-A97B-BD5A85860452.png', '08F8343C-FD4D-4B5D-A7A1-2A5FFA8B9171.png', 'E40B8F4F-36A9-4FF1-BDB4-BA12999256AE.png', 'C7A5E18D-1EA1-413F-BCF8-5A650092435D.png', '21F3D312-5435-4739-AF96-89C38EC6B8A1.png', 'D3572FCC-AAE4-4210-B91A-0A5AEEB0F208.png']\n"
    }
   ],
   "source": [
    "for dirpath,dirnames,files in os.walk('./'):\n",
    "    print(f'发现文件夹:{dirpath}')\n",
    "    print(files)"
   ]
  },
  {
   "cell_type": "code",
   "execution_count": 30,
   "metadata": {},
   "outputs": [
    {
     "output_type": "execute_result",
     "data": {
      "text/plain": "['sample.txt']"
     },
     "metadata": {},
     "execution_count": 30
    }
   ],
   "source": [
    "import glob\n",
    "glob.glob('*.txt',recursive=True)"
   ]
  },
  {
   "cell_type": "code",
   "execution_count": 9,
   "metadata": {},
   "outputs": [
    {
     "output_type": "execute_result",
     "data": {
      "text/plain": "'/Users/manmanzhang/Library/Mobile Documents/com~apple~CloudDocs/MyProject/InferenceSystem/src/I5_algorithm/NLP'"
     },
     "metadata": {},
     "execution_count": 9
    }
   ],
   "source": [
    "os.getcwd()"
   ]
  },
  {
   "cell_type": "code",
   "execution_count": 10,
   "metadata": {},
   "outputs": [
    {
     "output_type": "execute_result",
     "data": {
      "text/plain": "['020 语言模型优化.ipynb',\n '南方网新闻搜索.ipynb',\n '001 利用服务器传文件.ipynb',\n 'N-gram 语言模型.ipynb',\n 'prob_trans.py',\n '005 斐波那契数.ipynb',\n 'prob_emit.py',\n '014 停用词过滤.ipynb',\n '008 分词算法 Max Matching.ipynb',\n '012 生成单词 .ipynb',\n 'NGram语言模型.ipynb',\n '009 语意理解.ipynb',\n '南方网 3.csv',\n 'Apriori.ipynb',\n '015 倒排表.ipynb',\n '南方网 2.csv',\n '022 词性标注.ipynb',\n '011 编辑距离00.ipynb',\n 'NLTK实现词性标注.ipynb',\n '016 搜索技术 （南方网）新闻搜索模块.ipynb',\n '016 NoisyChannelModel.ipynb',\n '000 02 包技巧 OS 模块 操作.ipynb',\n '019 马尔科夫假设.ipynb',\n '014 相似度计算与文本表示.ipynb',\n '004 时间复杂度.ipynb',\n '018 Chain Rule和Markov Assumption.ipynb',\n '维特比算法.ipynb',\n '词性标注概率转移矩阵.csv',\n '测试julia.ipynb',\n 'shell编程测试',\n '003 NLP 机器翻译005.ipynb',\n '002 NLP定义与歧义 统计对照翻译.ipynb',\n 'NLP 假新闻检测 .ipynb',\n '新闻搜索模块.ipynb',\n '字节跳动',\n '字节跳动特朗普',\n '南方网.csv',\n '006 P vs NP vs NP Hard vs NP complete.ipynb',\n 'RNN_LSTM语言模型.ipynb',\n '010 维特比算法01.ipynb',\n 'model.ckpt',\n 'prob_start.py',\n '特朗普',\n '013 最大似然估计做拼写纠正.ipynb',\n '021 线性代数与随机漫步.ipynb',\n '007 搭建一个智能客服系统.ipynb',\n 'RUSTdemo.rs',\n 'ONE-HOT.ipynb',\n '古德图灵折扣估计.ipynb',\n 'sample.txt',\n 'RUST学习笔记.ipynb',\n '图片']"
     },
     "metadata": {},
     "execution_count": 10
    }
   ],
   "source": [
    "os.listdir(os.getcwd())"
   ]
  },
  {
   "cell_type": "code",
   "execution_count": 36,
   "metadata": {},
   "outputs": [
    {
     "output_type": "execute_result",
     "data": {
      "text/plain": "(<_io.TextIOWrapper name='/usr/local/Cellar/python/3.7.6_1/Frameworks/Python.framework/Versions/3.7/lib/python3.7/os.py' mode='r' encoding='utf-8'>,\n '/usr/local/Cellar/python/3.7.6_1/Frameworks/Python.framework/Versions/3.7/lib/python3.7/os.py',\n ('.py', 'r', 1))"
     },
     "metadata": {},
     "execution_count": 36
    }
   ],
   "source": [
    "import imp\n",
    "imp.find_module('os')"
   ]
  },
  {
   "cell_type": "code",
   "execution_count": 11,
   "metadata": {},
   "outputs": [],
   "source": [
    "abs_path = \"Library/Mobile Documents/com~apple~CloudDocs/MyProject/InferenceSystem/src/I5_algorithm/NLP数据集合/豆瓣电影数据集(2019.3)/豆瓣电影简介.txt\""
   ]
  },
  {
   "cell_type": "code",
   "execution_count": 12,
   "metadata": {},
   "outputs": [
    {
     "output_type": "error",
     "ename": "OSError",
     "evalue": "Library/Mobile Documents/com~apple~CloudDocs/MyProject/InferenceSystem/src/I5_algorithm/NLP数据集合/豆瓣电影数据集(2019.3)/豆瓣电影简介.txt not found.",
     "traceback": [
      "\u001b[0;31m---------------------------------------------------------------------------\u001b[0m",
      "\u001b[0;31mOSError\u001b[0m                                   Traceback (most recent call last)",
      "\u001b[0;32m<ipython-input-12-6bff85eb59f9>\u001b[0m in \u001b[0;36m<module>\u001b[0;34m\u001b[0m\n\u001b[0;32m----> 1\u001b[0;31m \u001b[0mnp\u001b[0m\u001b[0;34m.\u001b[0m\u001b[0mloadtxt\u001b[0m\u001b[0;34m(\u001b[0m\u001b[0mabs_path\u001b[0m\u001b[0;34m,\u001b[0m\u001b[0mdtype\u001b[0m\u001b[0;34m=\u001b[0m\u001b[0mstr\u001b[0m\u001b[0;34m,\u001b[0m\u001b[0mencoding\u001b[0m\u001b[0;34m=\u001b[0m\u001b[0;34m'utf-8'\u001b[0m\u001b[0;34m)\u001b[0m\u001b[0;34m\u001b[0m\u001b[0;34m\u001b[0m\u001b[0m\n\u001b[0m",
      "\u001b[0;32m/usr/local/lib/python3.7/site-packages/numpy/lib/npyio.py\u001b[0m in \u001b[0;36mloadtxt\u001b[0;34m(fname, dtype, comments, delimiter, converters, skiprows, usecols, unpack, ndmin, encoding, max_rows)\u001b[0m\n\u001b[1;32m    979\u001b[0m             \u001b[0mfname\u001b[0m \u001b[0;34m=\u001b[0m \u001b[0mos_fspath\u001b[0m\u001b[0;34m(\u001b[0m\u001b[0mfname\u001b[0m\u001b[0;34m)\u001b[0m\u001b[0;34m\u001b[0m\u001b[0;34m\u001b[0m\u001b[0m\n\u001b[1;32m    980\u001b[0m         \u001b[0;32mif\u001b[0m \u001b[0m_is_string_like\u001b[0m\u001b[0;34m(\u001b[0m\u001b[0mfname\u001b[0m\u001b[0;34m)\u001b[0m\u001b[0;34m:\u001b[0m\u001b[0;34m\u001b[0m\u001b[0;34m\u001b[0m\u001b[0m\n\u001b[0;32m--> 981\u001b[0;31m             \u001b[0mfh\u001b[0m \u001b[0;34m=\u001b[0m \u001b[0mnp\u001b[0m\u001b[0;34m.\u001b[0m\u001b[0mlib\u001b[0m\u001b[0;34m.\u001b[0m\u001b[0m_datasource\u001b[0m\u001b[0;34m.\u001b[0m\u001b[0mopen\u001b[0m\u001b[0;34m(\u001b[0m\u001b[0mfname\u001b[0m\u001b[0;34m,\u001b[0m \u001b[0;34m'rt'\u001b[0m\u001b[0;34m,\u001b[0m \u001b[0mencoding\u001b[0m\u001b[0;34m=\u001b[0m\u001b[0mencoding\u001b[0m\u001b[0;34m)\u001b[0m\u001b[0;34m\u001b[0m\u001b[0;34m\u001b[0m\u001b[0m\n\u001b[0m\u001b[1;32m    982\u001b[0m             \u001b[0mfencoding\u001b[0m \u001b[0;34m=\u001b[0m \u001b[0mgetattr\u001b[0m\u001b[0;34m(\u001b[0m\u001b[0mfh\u001b[0m\u001b[0;34m,\u001b[0m \u001b[0;34m'encoding'\u001b[0m\u001b[0;34m,\u001b[0m \u001b[0;34m'latin1'\u001b[0m\u001b[0;34m)\u001b[0m\u001b[0;34m\u001b[0m\u001b[0;34m\u001b[0m\u001b[0m\n\u001b[1;32m    983\u001b[0m             \u001b[0mfh\u001b[0m \u001b[0;34m=\u001b[0m \u001b[0miter\u001b[0m\u001b[0;34m(\u001b[0m\u001b[0mfh\u001b[0m\u001b[0;34m)\u001b[0m\u001b[0;34m\u001b[0m\u001b[0;34m\u001b[0m\u001b[0m\n",
      "\u001b[0;32m/usr/local/lib/python3.7/site-packages/numpy/lib/_datasource.py\u001b[0m in \u001b[0;36mopen\u001b[0;34m(path, mode, destpath, encoding, newline)\u001b[0m\n\u001b[1;32m    267\u001b[0m \u001b[0;34m\u001b[0m\u001b[0m\n\u001b[1;32m    268\u001b[0m     \u001b[0mds\u001b[0m \u001b[0;34m=\u001b[0m \u001b[0mDataSource\u001b[0m\u001b[0;34m(\u001b[0m\u001b[0mdestpath\u001b[0m\u001b[0;34m)\u001b[0m\u001b[0;34m\u001b[0m\u001b[0;34m\u001b[0m\u001b[0m\n\u001b[0;32m--> 269\u001b[0;31m     \u001b[0;32mreturn\u001b[0m \u001b[0mds\u001b[0m\u001b[0;34m.\u001b[0m\u001b[0mopen\u001b[0m\u001b[0;34m(\u001b[0m\u001b[0mpath\u001b[0m\u001b[0;34m,\u001b[0m \u001b[0mmode\u001b[0m\u001b[0;34m,\u001b[0m \u001b[0mencoding\u001b[0m\u001b[0;34m=\u001b[0m\u001b[0mencoding\u001b[0m\u001b[0;34m,\u001b[0m \u001b[0mnewline\u001b[0m\u001b[0;34m=\u001b[0m\u001b[0mnewline\u001b[0m\u001b[0;34m)\u001b[0m\u001b[0;34m\u001b[0m\u001b[0;34m\u001b[0m\u001b[0m\n\u001b[0m\u001b[1;32m    270\u001b[0m \u001b[0;34m\u001b[0m\u001b[0m\n\u001b[1;32m    271\u001b[0m \u001b[0;34m\u001b[0m\u001b[0m\n",
      "\u001b[0;32m/usr/local/lib/python3.7/site-packages/numpy/lib/_datasource.py\u001b[0m in \u001b[0;36mopen\u001b[0;34m(self, path, mode, encoding, newline)\u001b[0m\n\u001b[1;32m    621\u001b[0m                                       encoding=encoding, newline=newline)\n\u001b[1;32m    622\u001b[0m         \u001b[0;32melse\u001b[0m\u001b[0;34m:\u001b[0m\u001b[0;34m\u001b[0m\u001b[0;34m\u001b[0m\u001b[0m\n\u001b[0;32m--> 623\u001b[0;31m             \u001b[0;32mraise\u001b[0m \u001b[0mIOError\u001b[0m\u001b[0;34m(\u001b[0m\u001b[0;34m\"%s not found.\"\u001b[0m \u001b[0;34m%\u001b[0m \u001b[0mpath\u001b[0m\u001b[0;34m)\u001b[0m\u001b[0;34m\u001b[0m\u001b[0;34m\u001b[0m\u001b[0m\n\u001b[0m\u001b[1;32m    624\u001b[0m \u001b[0;34m\u001b[0m\u001b[0m\n\u001b[1;32m    625\u001b[0m \u001b[0;34m\u001b[0m\u001b[0m\n",
      "\u001b[0;31mOSError\u001b[0m: Library/Mobile Documents/com~apple~CloudDocs/MyProject/InferenceSystem/src/I5_algorithm/NLP数据集合/豆瓣电影数据集(2019.3)/豆瓣电影简介.txt not found."
     ]
    }
   ],
   "source": [
    "np.loadtxt(abs_path,dtype=str,encoding='utf-8')"
   ]
  },
  {
   "cell_type": "code",
   "execution_count": null,
   "metadata": {},
   "outputs": [],
   "source": []
  }
 ]
}