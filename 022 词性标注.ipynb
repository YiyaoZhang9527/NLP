{
 "cells": [
  {
   "cell_type": "markdown",
   "metadata": {},
   "source": [
    "https://zhuanlan.zhihu.com/p/70355773"
   ]
  },
  {
   "cell_type": "code",
   "execution_count": 1,
   "metadata": {},
   "outputs": [],
   "source": [
    "import numpy as np\n",
    "import torch\n",
    "from IPython.display import display, Image\n",
    "import os\n",
    "from os import listdir\n",
    "import re\n",
    "from tqdm import tqdm\n",
    "import pandas as pd\n",
    "device = ('cuda' if torch.cuda.is_available() else 'cpu')\n",
    "import sys"
   ]
  },
  {
   "cell_type": "code",
   "execution_count": 2,
   "metadata": {},
   "outputs": [
    {
     "data": {
      "text/plain": [
       "False"
      ]
     },
     "execution_count": 2,
     "metadata": {},
     "output_type": "execute_result"
    }
   ],
   "source": [
    "torch.cuda.is_available()"
   ]
  },
  {
   "cell_type": "markdown",
   "metadata": {},
   "source": [
    "# POS Tagging"
   ]
  },
  {
   "cell_type": "markdown",
   "metadata": {},
   "source": [
    "# 首先有一句话已经标准好了词性"
   ]
  },
  {
   "cell_type": "markdown",
   "metadata": {},
   "source": [
    "display(Image(\"/Users/manmanzhang/Library/Mobile Documents/com~apple~CloudDocs/MyProject/InferenceSystem/src/I5_algorithm/NLP/图片/C7A5E18D-1EA1-413F-BCF8-5A650092435D.png\"))"
   ]
  },
  {
   "cell_type": "markdown",
   "metadata": {},
   "source": [
    "def display_img(img_path):\n",
    "    return display(Image(\"{}{}{}\".format(os.getcwd(),\"/I5_algorithm/图片/\",img_path)))\n",
    "display_img(\"C7A5E18D-1EA1-413F-BCF8-5A650092435D.png\")"
   ]
  },
  {
   "cell_type": "markdown",
   "metadata": {},
   "source": [
    "## 加载词性标注数据"
   ]
  },
  {
   "cell_type": "code",
   "execution_count": 3,
   "metadata": {},
   "outputs": [],
   "source": [
    "#dirpath = \"/media/manman/文档/算法实验/I5_algorithm/NLP数据集合/词性标注数据集/国家语委人工词性标注语料\""
   ]
  },
  {
   "cell_type": "code",
   "execution_count": 4,
   "metadata": {},
   "outputs": [],
   "source": [
    "def list_file_path(dirpath):\n",
    "    return [os.path.join(dirpath,dir) for dir in listdir(dirpath)]\n",
    "\n",
    "def replace_lambda(strings,symbles=[' ','\\ufeff'],Replace_the_symbol=\"\\n\"):\n",
    "    srcrep = {i:Replace_the_symbol for i in symbles }\n",
    "    rep = dict((re.escape(k), v) for k, v in srcrep.items())\n",
    "    pattern = re.compile(\"|\".join(rep.keys()))\n",
    "    return pattern.sub(lambda m: rep[re.escape(m.group(0))], strings)\n",
    "\n",
    "def clean_page(filepath):\n",
    "    file = open(filepath,'r').readlines()\n",
    "    sentence_tagging = ''.join([replace_lambda('{}{}'.format('sentence/sentence',sentence)) for sentence in file])\n",
    "    split_pos_tagging = re.split(r'\\n',sentence_tagging)\n",
    "    remove_empty = list(map(lambda x : x.split('/') ,list(filter(lambda x : x!='' , split_pos_tagging))))\n",
    "    return np.array([['page','page']]+remove_empty) \n",
    "\n",
    "def load_pos_tags(dirpath):\n",
    "    init_pos_tags = []\n",
    "    cl = []\n",
    "    for dir in tqdm(listdir(dirpath),desc='加载词性标注文件'):\n",
    "        one_page = clean_page(os.path.join(dirpath,dir))\n",
    "        for pos in one_page:\n",
    "            if (len(pos) == 2) & ('' not in pos):\n",
    "                init_pos_tags.append(pos)\n",
    "            else:\n",
    "                cl.append(pos)\n",
    "    return np.array(init_pos_tags),cl"
   ]
  },
  {
   "cell_type": "code",
   "execution_count": 15,
   "metadata": {
    "tags": []
   },
   "outputs": [
    {
     "name": "stderr",
     "output_type": "stream",
     "text": [
      "加载词性标注文件: 100%|██████████| 1978/1978 [00:23<00:00, 84.94it/s] \n"
     ]
    }
   ],
   "source": [
    "pos_tag_path = os.getcwd().replace('NlP/','')+\"数据集合/词性标注数据集/国家语委人工词性标注语料\"\n",
    "pos_tags_ , cl = load_pos_tags(pos_tag_path)\n",
    "#pos_tag_12 ,cl_12 = load_pos_tags(pos_tag_path)"
   ]
  },
  {
   "cell_type": "code",
   "execution_count": 16,
   "metadata": {},
   "outputs": [
    {
     "data": {
      "text/plain": [
       "array([['page', 'page'],\n",
       "       ['sentence', 'sentence'],\n",
       "       ['两', 'm'],\n",
       "       ...,\n",
       "       ['一样', 'a'],\n",
       "       ['。', 'w'],\n",
       "       ['sentence', 'sentence']], dtype='<U25')"
      ]
     },
     "execution_count": 16,
     "metadata": {},
     "output_type": "execute_result"
    }
   ],
   "source": [
    "tags,words = np.unique(pos_tags_[:,1]), np.unique(pos_tags_[:,0])\n",
    "pos_tags_"
   ]
  },
  {
   "cell_type": "code",
   "execution_count": 17,
   "metadata": {},
   "outputs": [],
   "source": [
    "def check_prob(word,tage,m,n,pos_tags):\n",
    "    check_same = (pos_tags==np.array([word,tage]))\n",
    "    return (check_same.dot(np.ones(2))==2).dot(np.ones(m))/m"
   ]
  },
  {
   "cell_type": "code",
   "execution_count": 18,
   "metadata": {
    "tags": []
   },
   "outputs": [
    {
     "name": "stdout",
     "output_type": "stream",
     "text": [
      "CPU times: user 199 ms, sys: 43.6 ms, total: 242 ms\n",
      "Wall time: 160 ms\n"
     ]
    },
    {
     "data": {
      "text/plain": [
       "0.001712517681875372"
      ]
     },
     "execution_count": 18,
     "metadata": {},
     "output_type": "execute_result"
    }
   ],
   "source": [
    "mfull,nfull = pos_tags_.shape\n",
    "%time check_prob('两', 'm',mfull,nfull,pos_tags_)"
   ]
  },
  {
   "cell_type": "markdown",
   "metadata": {},
   "source": [
    "def stats_transfer_matrix(pos_tags):\n",
    "    unique_words,unique_tags = np.unique(pos_tags[:,0]),np.unique(pos_tags[:,1])\n",
    "    m,n = unique_words.size,unique_tags.size\n",
    "    mfull,nfull = pos_tags.shape\n",
    "    init_arr = np.zeros((m,n))#.astype(str)\n",
    "    tempm , tempn = -1,-1\n",
    "    for word in tqdm(unique_words,desc='计算词性频率'):\n",
    "        tempm += 1\n",
    "        for tag in unique_tags:\n",
    "            tempn += 1\n",
    "            if np.array([word,tag]) in pos_tags:\n",
    "                init_arr[tempm,tempn] += check_prob(word,tag,mfull,nfull,pos_tags)#str(word)+str(tag)#\n",
    "        tempn = -1\n",
    "    to_table = pd.DataFrame(init_arr.T,columns=unique_words,index =unique_tags)\n",
    "    to_table.to_csv(\"/media/manman/文档/算法实验/I5_algorithm/NLP数据集合/词性标注数据集/词性标注概率转移矩阵/词性标注概率转移矩阵.csv\")\n",
    "    return {\"table\":to_table,\"arr\":init_arr}"
   ]
  },
  {
   "cell_type": "markdown",
   "metadata": {},
   "source": [
    "stats_transfer_matrix(pos_tags_)['table']"
   ]
  },
  {
   "cell_type": "code",
   "execution_count": 19,
   "metadata": {},
   "outputs": [],
   "source": [
    "def filter_pos_tag(pos_tags):\n",
    "    filter_index = np.array([(pos_tags[:,1] != 'page')*(pos_tags[:,1] != 'sentence')])[0]\n",
    "    clear_pos_tags = pos_tags[filter_index]\n",
    "    return clear_pos_tags"
   ]
  },
  {
   "cell_type": "code",
   "execution_count": 20,
   "metadata": {},
   "outputs": [],
   "source": [
    "clear_pos_tags = filter_pos_tag(pos_tags_)"
   ]
  },
  {
   "cell_type": "code",
   "execution_count": 24,
   "metadata": {},
   "outputs": [],
   "source": [
    "def is_GPU(tensor):\n",
    "    '''\n",
    "    函数名 : cpu 或者 gpu 自动推断函数\n",
    "    :param tensor: tensor结构数据\n",
    "    :return: 根据系统转cpu或者gpu结构\n",
    "    '''\n",
    "    if torch.cuda.is_available():\n",
    "        return tensor.cuda()\n",
    "    return tensor\n",
    "\n",
    "def str_coder(pos_tags):\n",
    "    countm ,countn = pos_tags.shape\n",
    "    unique_words,counter_words= np.unique(pos_tags[:,0],return_counts=True)\n",
    "    unique_tags,counter_tags = np.unique(pos_tags[:,1],return_counts=True)\n",
    "    words_dict = dict(zip(unique_words,np.arange(unique_words.size)))\n",
    "    tags_dict = dict(zip(unique_tags,np.arange(unique_tags.size)))\n",
    "    strings_to_code = torch.tensor([[words_dict[pos_tag[0]],tags_dict[pos_tag[1]]] for pos_tag in tqdm(pos_tags,desc='词转编码')])\n",
    "    return strings_to_code\n",
    "\n",
    "def check_prob_from_tensor(pos_tag_code,m,strings_to_code):\n",
    "    check_same = strings_to_code==pos_tag_code\n",
    "    return (check_same.sum(axis=1)==2).sum().cpu().numpy()/m\n",
    "\n",
    "def stats_transfer_matrix_from_tensor(pos_tags):\n",
    "    strings_to_code = str_coder(pos_tags).cuda()\n",
    "    strwords,strtags = np.unique(pos_tags[:,0]),np.unique(pos_tags[:,1])\n",
    "    unique_words,unique_tags = torch.unique(strings_to_code[:,0]).cuda(),torch.unique(strings_to_code[:,1]).cuda()\n",
    "    m,n = unique_words.size()[0],unique_tags.size()[0]\n",
    "    #mfull,nfull = strings_to_code.shape\n",
    "    init_arr = np.zeros((int(m),int(n)))\n",
    "    tempm , tempn = -1,-1\n",
    "    for word in tqdm(unique_words,desc='计算词性频率'):\n",
    "        tempm += 1\n",
    "        for tag in unique_tags:\n",
    "            tempn += 1\n",
    "            temp_pos_tag = torch.tensor([word,tag]).cuda()\n",
    "            temp_tag_m = (strings_to_code[:,1]==tag).sum().cpu().numpy()\n",
    "            if temp_pos_tag in strings_to_code:\n",
    "                '''与整体比较概率'''\n",
    "                temp_prob = check_prob_from_tensor(temp_pos_tag,temp_tag_m,strings_to_code) \n",
    "                init_arr[tempm,tempn] += temp_prob \n",
    "        tempn = -1\n",
    "    to_table = pd.DataFrame(init_arr.T,columns = strwords,index = strtags)\n",
    "    to_table.to_csv(os.getcwd().replace('NlP','')+\"数据集合/词性标注数据集/词性标注概率转移矩阵/词性标注概率转移矩阵.csv\")\n",
    "    return {\"table\":to_table,\"arr\":init_arr.T,'tags':strtags,'words':strwords}"
   ]
  },
  {
   "cell_type": "code",
   "execution_count": 71,
   "metadata": {},
   "outputs": [],
   "source": [
    "def str_coder(pos_tags):\n",
    "    countm ,countn = pos_tags.shape\n",
    "    unique_words,counter_words= np.unique(pos_tags[:,0],return_counts=True)\n",
    "    unique_tags,counter_tags = np.unique(pos_tags[:,1],return_counts=True)\n",
    "    words_dict = dict(zip(unique_words,np.arange(unique_words.size)))\n",
    "    tags_dict = dict(zip(unique_tags,np.arange(unique_tags.size)))\n",
    "    strings_to_code = torch.tensor([[words_dict[pos_tag[0]],tags_dict[pos_tag[1]]] for pos_tag in tqdm(pos_tags,desc='词转编码')])\n",
    "    return strings_to_code\n",
    "\n",
    "def check_prob_from_tensor(pos_tag_code,m,strings_to_code):\n",
    "    check_same = strings_to_code==pos_tag_code\n",
    "    return (check_same.sum(axis=1)==2).sum()/float(m)\n",
    "\n",
    "def stats_transfer_matrix_from_tensor(pos_tags):\n",
    "    strings_to_code = str_coder(pos_tags).cuda()\n",
    "    strwords,strtags = np.unique(pos_tags[:,0]),np.unique(pos_tags[:,1])\n",
    "    unique_words,unique_tags = torch.unique(strings_to_code[:,0]).cuda(),torch.unique(strings_to_code[:,1]).cuda()\n",
    "    m,n = unique_words.size()[0],unique_tags.size()[0]\n",
    "    init_arr = torch.zeros((int(m),int(n))).cuda()\n",
    "    tempm , tempn = -1,-1\n",
    "    for word in tqdm(unique_words,desc='计算词性频率'):\n",
    "        tempm += 1\n",
    "        for tag in unique_tags:\n",
    "            tempn += 1\n",
    "            temp_pos_tag = torch.tensor([word,tag]).cuda()\n",
    "            temp_tag_m = (strings_to_code[:,1]==tag).sum()\n",
    "            if temp_pos_tag in strings_to_code:\n",
    "                '''与整体比较概率'''\n",
    "                temp_prob = check_prob_from_tensor(temp_pos_tag,temp_tag_m,strings_to_code) \n",
    "                init_arr[tempm,tempn] += temp_prob \n",
    "        tempn = -1\n",
    "    init_arr = init_arr.cpu().numpy()\n",
    "    to_table = pd.DataFrame(init_arr.T,columns = strwords,index = strtags)\n",
    "    to_table.to_csv(\"/media/manman/文档/算法实验/I5_algorithm/NLP数据集合/词性标注数据集/词性标注概率转移矩阵/词性标注概率转移矩阵.csv\")\n",
    "    return {\"table\":to_table,\"arr\":init_arr.T,'tags':strtags,'words':strwords}"
   ]
  },
  {
   "cell_type": "code",
   "execution_count": 95,
   "metadata": {
    "tags": []
   },
   "outputs": [
    {
     "data": {
      "text/plain": [
       "array([['c', 0.0, 0.0, ..., 0.0, 0.0, 0.0],\n",
       "       ['d', 0.0, 0.0, ..., 0.0, 0.0, 0.0],\n",
       "       ['e', 0.0, 0.0, ..., 0.0, 0.0, 0.0],\n",
       "       ...,\n",
       "       ['w', 0.004965613549854421, 0.0, ..., 0.0, 0.0,\n",
       "        8.473743259137238e-05],\n",
       "       ['ws', 0.0, 0.0004952947003467064, ..., 0.0004952947003467064,\n",
       "        0.0004952947003467064, 0.0],\n",
       "       ['x', 0.0, 0.0, ..., 0.0, 0.0, 0.0]], dtype=object)"
      ]
     },
     "execution_count": 95,
     "metadata": {},
     "output_type": "execute_result"
    }
   ],
   "source": [
    "#transfer_matrix = stats_transfer_matrix_from_tensor(pos_tags_[:100])\n",
    "#A = transfer_matrix['table']\n",
    "Atable = pd.read_csv(os.getcwd()+\"/词性标注概率转移矩阵.csv\")\n",
    "A = Atable.to_numpy()[1:]\n",
    "A"
   ]
  },
  {
   "cell_type": "code",
   "execution_count": 27,
   "metadata": {},
   "outputs": [
    {
     "ename": "NameError",
     "evalue": "name 'transfer_matrix' is not defined",
     "output_type": "error",
     "traceback": [
      "\u001b[0;31m---------------------------------------------------------------------------\u001b[0m",
      "\u001b[0;31mNameError\u001b[0m                                 Traceback (most recent call last)",
      "\u001b[0;32m<ipython-input-27-0978f22c3686>\u001b[0m in \u001b[0;36m<module>\u001b[0;34m\u001b[0m\n\u001b[0;32m----> 1\u001b[0;31m \u001b[0mtransfer_matrix_arr\u001b[0m \u001b[0;34m=\u001b[0m \u001b[0mtransfer_matrix\u001b[0m\u001b[0;34m[\u001b[0m\u001b[0;34m\"arr\"\u001b[0m\u001b[0;34m]\u001b[0m\u001b[0;34m\u001b[0m\u001b[0;34m\u001b[0m\u001b[0m\n\u001b[0m\u001b[1;32m      2\u001b[0m \u001b[0mtransfer_matrix_arr\u001b[0m\u001b[0;34m\u001b[0m\u001b[0;34m\u001b[0m\u001b[0m\n",
      "\u001b[0;31mNameError\u001b[0m: name 'transfer_matrix' is not defined"
     ]
    }
   ],
   "source": [
    "transfer_matrix_arr = transfer_matrix[\"arr\"]\n",
    "transfer_matrix_arr"
   ]
  },
  {
   "cell_type": "code",
   "execution_count": 28,
   "metadata": {},
   "outputs": [
    {
     "ename": "NameError",
     "evalue": "name 'transfer_matrix' is not defined",
     "output_type": "error",
     "traceback": [
      "\u001b[0;31m---------------------------------------------------------------------------\u001b[0m",
      "\u001b[0;31mNameError\u001b[0m                                 Traceback (most recent call last)",
      "\u001b[0;32m<ipython-input-28-10a28f6338f7>\u001b[0m in \u001b[0;36m<module>\u001b[0;34m\u001b[0m\n\u001b[0;32m----> 1\u001b[0;31m \u001b[0mtransfer_matrix\u001b[0m\u001b[0;34m[\u001b[0m\u001b[0;34m'tags'\u001b[0m\u001b[0;34m]\u001b[0m\u001b[0;34m.\u001b[0m\u001b[0mshape\u001b[0m\u001b[0;34m\u001b[0m\u001b[0;34m\u001b[0m\u001b[0m\n\u001b[0m",
      "\u001b[0;31mNameError\u001b[0m: name 'transfer_matrix' is not defined"
     ]
    }
   ],
   "source": [
    "transfer_matrix['tags'].shape"
   ]
  },
  {
   "cell_type": "code",
   "execution_count": 81,
   "metadata": {},
   "outputs": [],
   "source": [
    "def get_Pi(pos_tags):\n",
    "    tag_arr = pos_tags[:,1]\n",
    "    unique_tags = np.unique(tag_arr)\n",
    "    n = 0\n",
    "    m = unique_tags.size\n",
    "    arr = np.zeros(m)\n",
    "    for tag in unique_tags:\n",
    "        n += 1\n",
    "        if tag == 'sentence':\n",
    "            prob = (tag_arr==tag).sum()/m\n",
    "            arr[n] = prob\n",
    "            \n",
    "    #arr = np.array([tags_prob_dict[tag]/init_m for tag in tags_prob_dict])\n",
    "    return {'arr':arr,'table':pd.DataFrame(arr[None,],columns=unique_tags)}"
   ]
  },
  {
   "cell_type": "code",
   "execution_count": 83,
   "metadata": {},
   "outputs": [
    {
     "data": {
      "text/html": [
       "<div>\n",
       "<style scoped>\n",
       "    .dataframe tbody tr th:only-of-type {\n",
       "        vertical-align: middle;\n",
       "    }\n",
       "\n",
       "    .dataframe tbody tr th {\n",
       "        vertical-align: top;\n",
       "    }\n",
       "\n",
       "    .dataframe thead th {\n",
       "        text-align: right;\n",
       "    }\n",
       "</style>\n",
       "<table border=\"1\" class=\"dataframe\">\n",
       "  <thead>\n",
       "    <tr style=\"text-align: right;\">\n",
       "      <th></th>\n",
       "      <th>a</th>\n",
       "      <th>c</th>\n",
       "      <th>d</th>\n",
       "      <th>e</th>\n",
       "      <th>f</th>\n",
       "      <th>h</th>\n",
       "      <th>i</th>\n",
       "      <th>j</th>\n",
       "      <th>k</th>\n",
       "      <th>m</th>\n",
       "      <th>...</th>\n",
       "      <th>tu</th>\n",
       "      <th>tv</th>\n",
       "      <th>u</th>\n",
       "      <th>v</th>\n",
       "      <th>vd</th>\n",
       "      <th>vl</th>\n",
       "      <th>vu</th>\n",
       "      <th>w</th>\n",
       "      <th>ws</th>\n",
       "      <th>x</th>\n",
       "    </tr>\n",
       "  </thead>\n",
       "  <tbody>\n",
       "    <tr>\n",
       "      <th>0</th>\n",
       "      <td>0.0</td>\n",
       "      <td>0.0</td>\n",
       "      <td>0.0</td>\n",
       "      <td>0.0</td>\n",
       "      <td>0.0</td>\n",
       "      <td>0.0</td>\n",
       "      <td>0.0</td>\n",
       "      <td>0.0</td>\n",
       "      <td>0.0</td>\n",
       "      <td>0.0</td>\n",
       "      <td>...</td>\n",
       "      <td>0.0</td>\n",
       "      <td>0.0</td>\n",
       "      <td>0.0</td>\n",
       "      <td>0.0</td>\n",
       "      <td>0.0</td>\n",
       "      <td>0.0</td>\n",
       "      <td>0.0</td>\n",
       "      <td>0.0</td>\n",
       "      <td>0.0</td>\n",
       "      <td>0.0</td>\n",
       "    </tr>\n",
       "  </tbody>\n",
       "</table>\n",
       "<p>1 rows × 46 columns</p>\n",
       "</div>"
      ],
      "text/plain": [
       "     a    c    d    e    f    h    i    j    k    m  ...   tu   tv    u    v  \\\n",
       "0  0.0  0.0  0.0  0.0  0.0  0.0  0.0  0.0  0.0  0.0  ...  0.0  0.0  0.0  0.0   \n",
       "\n",
       "    vd   vl   vu    w   ws    x  \n",
       "0  0.0  0.0  0.0  0.0  0.0  0.0  \n",
       "\n",
       "[1 rows x 46 columns]"
      ]
     },
     "execution_count": 83,
     "metadata": {},
     "output_type": "execute_result"
    }
   ],
   "source": [
    "get_Pi(pos_tags_)['table']"
   ]
  },
  {
   "cell_type": "code",
   "execution_count": 87,
   "metadata": {},
   "outputs": [],
   "source": [
    "Pi = get_Pi(pos_tags_)['arr']"
   ]
  },
  {
   "cell_type": "code",
   "execution_count": 88,
   "metadata": {},
   "outputs": [
    {
     "name": "stderr",
     "output_type": "stream",
     "text": [
      "词性标注概率转移矩阵: 100%|██████████| 46/46 [00:00<00:00, 2252.82it/s]\n"
     ]
    }
   ],
   "source": [
    "def bigram_for_postag(pos_tags):    \n",
    "    tag_arr = pos_tags[:,1]\n",
    "    unique_tags = np.unique(tag_arr)\n",
    "    m = unique_tags.size\n",
    "    combination = np.array([tag_arr[i:i+2] for i in range(m) if i < m-1 ])\n",
    "    prob = lambda tag : (tag_arr == tag).sum()/m\n",
    "    table = np.zeros((m,m))\n",
    "    tm,tb = -1,-1\n",
    "    for tag1 in tqdm(unique_tags,desc='词性标注概率转移矩阵'):\n",
    "        tm += 1\n",
    "        for tag2 in unique_tags:\n",
    "            tb += 1\n",
    "            if tag1 != tag2:\n",
    "                tagrow = np.array([tag1,tag2])\n",
    "                prob_comb = (combination == tagrow).sum()/m    \n",
    "                table[tm,tb] = prob_comb\n",
    "        tb = -1\n",
    "    return table\n",
    "B = bigram_for_postag(pos_tags_)"
   ]
  },
  {
   "cell_type": "markdown",
   "metadata": {
    "tags": []
   },
   "source": [
    "## 模型计算"
   ]
  },
  {
   "cell_type": "code",
   "execution_count": 89,
   "metadata": {},
   "outputs": [
    {
     "data": {
      "text/plain": [
       "((46, 92937), (46,), (46, 46))"
      ]
     },
     "execution_count": 89,
     "metadata": {},
     "output_type": "execute_result"
    }
   ],
   "source": [
    "A.shape ,Pi.shape,B.shape"
   ]
  },
  {
   "cell_type": "code",
   "execution_count": 102,
   "metadata": {},
   "outputs": [
    {
     "data": {
      "text/plain": [
       "array([[  0,   2,   4,   6,   8,  10,  12,  14,  16,  18],\n",
       "       [ 10,  12,  14,  16,  18,  20,  22,  24,  26,  28],\n",
       "       [ 20,  22,  24,  26,  28,  30,  32,  34,  36,  38],\n",
       "       [ 30,  32,  34,  36,  38,  40,  42,  44,  46,  48],\n",
       "       [ 40,  42,  44,  46,  48,  50,  52,  54,  56,  58],\n",
       "       [ 50,  52,  54,  56,  58,  60,  62,  64,  66,  68],\n",
       "       [ 60,  62,  64,  66,  68,  70,  72,  74,  76,  78],\n",
       "       [ 70,  72,  74,  76,  78,  80,  82,  84,  86,  88],\n",
       "       [ 80,  82,  84,  86,  88,  90,  92,  94,  96,  98],\n",
       "       [ 90,  92,  94,  96,  98, 100, 102, 104, 106, 108]])"
      ]
     },
     "execution_count": 102,
     "metadata": {},
     "output_type": "execute_result"
    }
   ],
   "source": []
  },
  {
   "cell_type": "code",
   "execution_count": 27,
   "metadata": {},
   "outputs": [],
   "source": [
    "def cut_text(text,lenth):\n",
    "    textArr = re.findall('.{'+str(lenth)+'}', text) \n",
    "    textArr.append(text[(len(textArr)*lenth):]) \n",
    "    return textArr"
   ]
  },
  {
   "cell_type": "code",
   "execution_count": 28,
   "metadata": {},
   "outputs": [
    {
     "data": {
      "text/plain": [
       "['ha', 'ha', 'h']"
      ]
     },
     "execution_count": 28,
     "metadata": {},
     "output_type": "execute_result"
    }
   ],
   "source": [
    "cut_text(\"hahah\",2)"
   ]
  },
  {
   "cell_type": "code",
   "execution_count": null,
   "metadata": {},
   "outputs": [],
   "source": []
  },
  {
   "cell_type": "code",
   "execution_count": null,
   "metadata": {},
   "outputs": [],
   "source": []
  }
 ],
 "metadata": {
  "file_extension": ".py",
  "kernelspec": {
   "display_name": "PyCharm (InferenceSystem)",
   "language": "python",
   "name": "pycharm-66c53067"
  },
  "language_info": {
   "codemirror_mode": {
    "name": "ipython",
    "version": 3
   },
   "file_extension": ".py",
   "mimetype": "text/x-python",
   "name": "python",
   "nbconvert_exporter": "python",
   "pygments_lexer": "ipython3",
   "version": "3.7.6"
  },
  "mimetype": "text/x-python",
  "name": "python",
  "npconvert_exporter": "python",
  "pygments_lexer": "ipython3",
  "version": 3
 },
 "nbformat": 4,
 "nbformat_minor": 4
}
