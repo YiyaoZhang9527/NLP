{
 "cells": [
  {
   "cell_type": "markdown",
   "metadata": {},
   "source": [
    "https://www.jianshu.com/p/a617d20162cf\n",
    "$$ min(0, 0) = 0 ->  lev_{a, b}(0, 0) = max(0, 0) = 0 $$\n",
    "$$ min(0, 1) = 0 ->  lev_{a, b}(0, 1) = max(0, 1) = 1 $$\n",
    "$$ min(0, 2) = 0 ->  lev_{a, b}(0, 2) = max(0, 2) = 2 $$\n",
    "$$ min(0, 3) = 0 ->  lev_{a, b}(0, 3) = max(0, 3) = 3mi $$\n",
    "$$ n(0, 0) = 0 ->  lev_{a, b}(0, 0) = max(0, 0) = 0 $$\n",
    "$$ min(0, 1) = 0 ->  lev_{a, b}(0, 1) = max(0, 1) = 1 $$\n",
    "$$ min(0, 2) = 0 ->  lev_{a, b}(0, 2) = max(0, 2) = 2 $$\n",
    "$$ min(0, 3) = 0 ->  lev_{a, b}(0, 3) = max(0, 3) = 3 $$"
   ]
  },
  {
   "cell_type": "code",
   "execution_count": 1,
   "metadata": {
    "tags": []
   },
   "outputs": [
    {
     "output_type": "stream",
     "name": "stdout",
     "text": "2\n"
    }
   ],
   "source": [
    "def Levenshtein_Distance_Recursive(str1, str2):\n",
    "\n",
    "    if len(str1) == 0:\n",
    "        return len(str2)\n",
    "    elif len(str2) == 0:\n",
    "        return len(str1)\n",
    "    elif str1 == str2:\n",
    "        return 0\n",
    "\n",
    "    if str1[len(str1)-1] == str2[len(str2)-1]:\n",
    "        d = 0\n",
    "    else:\n",
    "        d = 1\n",
    "    \n",
    "    return min(Levenshtein_Distance_Recursive(str1, str2[:-1]) + 1,\n",
    "                Levenshtein_Distance_Recursive(str1[:-1], str2) + 1,\n",
    "                Levenshtein_Distance_Recursive(str1[:-1], str2[:-1]) + d)\n",
    "\n",
    "print(Levenshtein_Distance_Recursive(\"abc\", \"bd\"))"
   ]
  },
  {
   "cell_type": "code",
   "execution_count": 2,
   "metadata": {
    "tags": []
   },
   "outputs": [
    {
     "output_type": "stream",
     "name": "stdout",
     "text": "2\n"
    }
   ],
   "source": [
    "def Levenshtein_Distance(str1,str2):\n",
    "    \"\"\"\n",
    "    计算字符串 str1 和 str2 的编辑距离\n",
    "    :param str1\n",
    "    :param str2\n",
    "    :return:\n",
    "    \"\"\"\n",
    "    matrix = [[ i + j for j in range(len(str2) + 1)] for i in range(len(str1) + 1)]\n",
    "    for i in range(1, len(str1)+1):\n",
    "        for j in range(1, len(str2)+1):\n",
    "            if(str1[i-1] == str2[j-1]):\n",
    "                d = 0\n",
    "            else:\n",
    "                d = 1\n",
    "            matrix[i][j] = min(matrix[i-1][j]+1, matrix[i][j-1]+1, matrix[i-1][j-1]+d)\n",
    "\n",
    "    return matrix[len(str1)][len(str2)]\n",
    "\n",
    "\n",
    "print(Levenshtein_Distance(\"abc\", \"bd\"))"
   ]
  },
  {
   "cell_type": "code",
   "execution_count": null,
   "metadata": {},
   "outputs": [],
   "source": []
  }
 ],
 "metadata": {
  "language_info": {
   "codemirror_mode": {
    "name": "ipython",
    "version": 3
   },
   "file_extension": ".py",
   "mimetype": "text/x-python",
   "name": "python",
   "nbconvert_exporter": "python",
   "pygments_lexer": "ipython3",
   "version": "3.7.3-final"
  },
  "orig_nbformat": 2,
  "kernelspec": {
   "name": "python_defaultSpec_1597401550404",
   "display_name": "Python 3.7.3 64-bit"
  }
 },
 "nbformat": 4,
 "nbformat_minor": 2
}