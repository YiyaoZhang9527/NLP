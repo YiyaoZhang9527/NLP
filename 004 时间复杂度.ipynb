{
 "cells": [
  {
   "cell_type": "code",
   "execution_count": 80,
   "metadata": {},
   "outputs": [],
   "source": [
    "import numpy as np"
   ]
  },
  {
   "cell_type": "markdown",
   "metadata": {},
   "source": [
    "NLPCamp 时间复杂度与空间复杂度-算法工程师不可忽略的重要指标\n",
    "https://zhuanlan.zhihu.com/p/53286463https://zhuanlan.zhihu.com/p/53286463\n",
    "# 换底公式"
   ]
  },
  {
   "cell_type": "code",
   "execution_count": 81,
   "metadata": {},
   "outputs": [
    {
     "output_type": "execute_result",
     "data": {
      "text/plain": "1.5849625007211563"
     },
     "metadata": {},
     "execution_count": 81
    }
   ],
   "source": [
    "def log(a,b=2):\n",
    "    return np.log(a)/np.log(b)\n",
    "log(3)"
   ]
  },
  {
   "cell_type": "code",
   "execution_count": 82,
   "metadata": {},
   "outputs": [
    {
     "output_type": "execute_result",
     "data": {
      "text/plain": "10.0"
     },
     "metadata": {},
     "execution_count": 82
    }
   ],
   "source": [
    "def r(n,a,b):\n",
    "    return n**(log(a,b))\n",
    "r(10,2,2)"
   ]
  },
  {
   "cell_type": "code",
   "execution_count": 83,
   "metadata": {},
   "outputs": [
    {
     "output_type": "execute_result",
     "data": {
      "text/plain": "9"
     },
     "metadata": {},
     "execution_count": 83
    }
   ],
   "source": [
    "def fn1(n,b):\n",
    "    return n**b\n",
    "fn(3,2) "
   ]
  },
  {
   "cell_type": "code",
   "execution_count": 84,
   "metadata": {},
   "outputs": [
    {
     "output_type": "execute_result",
     "data": {
      "text/plain": "0.5"
     },
     "metadata": {},
     "execution_count": 84
    }
   ],
   "source": [
    "log(2,4)"
   ]
  },
  {
   "cell_type": "code",
   "execution_count": 85,
   "metadata": {},
   "outputs": [
    {
     "output_type": "execute_result",
     "data": {
      "text/plain": "(3.1622776601683795, 100, 3628800)"
     },
     "metadata": {},
     "execution_count": 85
    }
   ],
   "source": [
    "n = 10\n",
    "a = 2\n",
    "b = 4\n",
    "R = r(n,a,b)\n",
    "prown2 = n**2\n",
    "factorial = np.math.factorial(n)\n",
    "R,prown2,factorial"
   ]
  },
  {
   "cell_type": "markdown",
   "metadata": {},
   "source": [
    "# 计算空间复杂度"
   ]
  },
  {
   "cell_type": "code",
   "execution_count": 86,
   "metadata": {},
   "outputs": [
    {
     "output_type": "execute_result",
     "data": {
      "text/plain": "2"
     },
     "metadata": {},
     "execution_count": 86
    }
   ],
   "source": [
    "def compute(n,a,b):\n",
    "    s = 0\n",
    "    for i in range(n):\n",
    "        for j in range(n):\n",
    "            s = s + a * b\n",
    "    return s\n",
    "compare(10,4,2)"
   ]
  }
 ],
 "metadata": {
  "language_info": {
   "codemirror_mode": {
    "name": "ipython",
    "version": 3
   },
   "file_extension": ".py",
   "mimetype": "text/x-python",
   "name": "python",
   "nbconvert_exporter": "python",
   "pygments_lexer": "ipython3",
   "version": "3.7.6-final"
  },
  "orig_nbformat": 2,
  "kernelspec": {
   "name": "pycharm-66c53067",
   "display_name": "PyCharm (InferenceSystem)"
  }
 },
 "nbformat": 4,
 "nbformat_minor": 2
}