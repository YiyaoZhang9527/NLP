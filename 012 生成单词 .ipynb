{
 "cells": [
  {
   "cell_type": "code",
   "execution_count": 20,
   "metadata": {},
   "outputs": [
    {
     "output_type": "error",
     "ename": "ModuleNotFoundError",
     "evalue": "No module named 'numpy'",
     "traceback": [
      "\u001b[0;31m---------------------------------------------------------------------------\u001b[0m",
      "\u001b[0;31mModuleNotFoundError\u001b[0m                       Traceback (most recent call last)",
      "\u001b[0;32m<ipython-input-20-44672c93f9d1>\u001b[0m in \u001b[0;36m<module>\u001b[0;34m\u001b[0m\n\u001b[0;32m----> 1\u001b[0;31m \u001b[0;32mimport\u001b[0m \u001b[0mnumpy\u001b[0m \u001b[0;32mas\u001b[0m \u001b[0mnp\u001b[0m\u001b[0;34m\u001b[0m\u001b[0;34m\u001b[0m\u001b[0m\n\u001b[0m\u001b[1;32m      2\u001b[0m \u001b[0;32mimport\u001b[0m \u001b[0minspect\u001b[0m\u001b[0;34m\u001b[0m\u001b[0;34m\u001b[0m\u001b[0m\n\u001b[1;32m      3\u001b[0m \u001b[0;32mfrom\u001b[0m \u001b[0mfunctools\u001b[0m \u001b[0;32mimport\u001b[0m \u001b[0mreduce\u001b[0m\u001b[0;34m\u001b[0m\u001b[0;34m\u001b[0m\u001b[0m\n\u001b[1;32m      4\u001b[0m \u001b[0;32mfrom\u001b[0m \u001b[0mitertools\u001b[0m \u001b[0;32mimport\u001b[0m \u001b[0mpermutations\u001b[0m\u001b[0;34m,\u001b[0m\u001b[0mcombinations\u001b[0m\u001b[0;34m,\u001b[0m\u001b[0mcount\u001b[0m\u001b[0;34m,\u001b[0m\u001b[0mproduct\u001b[0m\u001b[0;34m\u001b[0m\u001b[0;34m\u001b[0m\u001b[0m\n\u001b[1;32m      5\u001b[0m \u001b[0;32mfrom\u001b[0m \u001b[0mcollections\u001b[0m \u001b[0;32mimport\u001b[0m \u001b[0mCounter\u001b[0m\u001b[0;34m\u001b[0m\u001b[0;34m\u001b[0m\u001b[0m\n",
      "\u001b[0;31mModuleNotFoundError\u001b[0m: No module named 'numpy'"
     ]
    }
   ],
   "source": [
    "import numpy as np\n",
    "import inspect\n",
    "from functools import reduce\n",
    "from itertools import permutations,combinations,count,product\n",
    "from collections import Counter\n",
    "import random\n",
    "import re"
   ]
  },
  {
   "cell_type": "markdown",
   "metadata": {},
   "source": [
    "## 众数"
   ]
  },
  {
   "cell_type": "code",
   "execution_count": 21,
   "metadata": {},
   "outputs": [],
   "source": [
    "def mode(lst):\n",
    "    return max(lst, default=False, key=lambda v: lst.count(v))"
   ]
  },
  {
   "cell_type": "markdown",
   "metadata": {},
   "source": [
    "## 生成字符范围选择"
   ]
  },
  {
   "cell_type": "code",
   "execution_count": 22,
   "metadata": {},
   "outputs": [],
   "source": [
    "def create_char_map(str_range = 'lowercase',chinese_path = False):\n",
    "    iter_range = lambda char_range : map(lambda x : chr(x),char_range)\n",
    "    func_dict = {'lowercase':iter_range(range(97,122))\n",
    "                ,'uppercase':iter_range(range(65,90))\n",
    "                ,'numbers':iter_range(range(48,57))}        \n",
    "    if chinese_path:\n",
    "        func_dict.update({'chinese':(char for char in open(chinese_path).readlines())})\n",
    "        return func_dict[\"chinese\"]\n",
    "    else:\n",
    "        return func_dict[str_range]"
   ]
  },
  {
   "cell_type": "markdown",
   "metadata": {},
   "source": [
    "## 字符串组合合并"
   ]
  },
  {
   "cell_type": "code",
   "execution_count": 23,
   "metadata": {},
   "outputs": [],
   "source": [
    "def collate_char_iterator(itertools_perm):\n",
    "    return map(lambda x:\"\".join(x),itertools_perm)"
   ]
  },
  {
   "cell_type": "markdown",
   "metadata": {},
   "source": [
    "## 生成字符串"
   ]
  },
  {
   "cell_type": "code",
   "execution_count": 24,
   "metadata": {},
   "outputs": [],
   "source": [
    "def chargen(language=\"lowercase\",n=1):\n",
    "    return collate_char_iterator(permutations(create_char_map('lowercase'),n))"
   ]
  },
  {
   "cell_type": "markdown",
   "metadata": {},
   "source": [
    "len(list(chargen(language=\"lowercase\",n=2)))"
   ]
  },
  {
   "cell_type": "markdown",
   "metadata": {},
   "source": [
    "## 添加字符串 forward = True 添加到首，False 添加到尾"
   ]
  },
  {
   "cell_type": "code",
   "execution_count": 25,
   "metadata": {},
   "outputs": [],
   "source": [
    "def add_char(input_char,language=\"lowercase\",n=2,forward=True):\n",
    "    return (\"{}{}\".format(char,input_char) \n",
    "        if forward==True else \"{}{}\".format(input_char,char) \n",
    "        for char in chargen(language=language,n=n))"
   ]
  },
  {
   "cell_type": "markdown",
   "metadata": {},
   "source": [
    "## 替换字符串"
   ]
  },
  {
   "cell_type": "code",
   "execution_count": 26,
   "metadata": {},
   "outputs": [],
   "source": [
    "def replace_char(input_char,language=\"lowercase\",n=2):\n",
    "    m = len(input_char)\n",
    "    S = chargen(language=language,n=n)\n",
    "    for create_str in S:\n",
    "        for i in range(m):\n",
    "            result = yield input_char.replace(input_char[i:i+n],create_str)"
   ]
  },
  {
   "cell_type": "markdown",
   "metadata": {},
   "source": [
    "## re删除字符串函数"
   ]
  },
  {
   "cell_type": "code",
   "execution_count": 27,
   "metadata": {},
   "outputs": [],
   "source": [
    "symbles=''':,\"{[}](>)</\\n。●  ，、的 啊 好 和\n",
    "并 与 及 对 错 你 我 我们 她 他 它：: ; ；《 》\n",
    "1 2 3 4 5 6 7 8 9 0  ‘ “ ” ’ + - * / ` ~ \n",
    "\\( \\ [ \\ { \\ } ] ) （ ）【 \\xa0 】理想 愿景\n",
    "工 不管 只要 一员 大家庭 当成 作 帅哥 美女 年轻\n",
    "佛系\n",
    "'''\n",
    "def delere_element(strings,symbles=symbles):\n",
    "    srcrep = {i:'' for i in symbles }\n",
    "    rep = dict((re.escape(k), v) for k, v in srcrep.items())\n",
    "    pattern = re.compile(\"|\".join(rep.keys()))\n",
    "    return pattern.sub(lambda m: rep[re.escape(m.group(0))], strings)"
   ]
  },
  {
   "cell_type": "markdown",
   "metadata": {},
   "source": [
    "## 删除字符串"
   ]
  },
  {
   "cell_type": "code",
   "execution_count": 28,
   "metadata": {
    "tags": []
   },
   "outputs": [],
   "source": [
    "def delere_char(input_char,language=\"lowercase\",n=2):\n",
    "    return (delere_element(input_char,\"\".join(chars)) for chars in permutations(input_char,n))"
   ]
  },
  {
   "cell_type": "markdown",
   "metadata": {},
   "source": [
    "## 生成所有可能性字符串"
   ]
  },
  {
   "cell_type": "code",
   "execution_count": 29,
   "metadata": {},
   "outputs": [],
   "source": [
    "def translation_str(input_char,language=\"lowercase\",n=2):\n",
    "    del_ = delere_char(input_char,language=language,n=n)\n",
    "    replace_ = replace_char(input_char,language=language,n=n)\n",
    "    add_forward = add_char(input_char,language=language,n=n,forward=True)\n",
    "    add_backward = add_char(input_char,language=language,n=n,forward=False)\n",
    "    return tuple(list(del_)+list(replace_)+list(add_forward)+list(add_backward))"
   ]
  },
  {
   "cell_type": "markdown",
   "metadata": {},
   "source": [
    "# 代码整理"
   ]
  },
  {
   "cell_type": "code",
   "execution_count": 30,
   "metadata": {},
   "outputs": [],
   "source": [
    "from itertools import permutations\n",
    "import re\n",
    "\n",
    "def create_char_map(str_range = 'lowercase',chinese_path = False):\n",
    "    iter_range = lambda char_range : map(lambda x : chr(x),char_range)\n",
    "    func_dict = {'lowercase':iter_range(range(97,122))\n",
    "                ,'uppercase':iter_range(range(65,90))\n",
    "                ,'numbers':iter_range(range(48,57))}        \n",
    "    if chinese_path:\n",
    "        func_dict.update({'chinese':(char for char in open(chinese_path).readlines())})\n",
    "        return func_dict[\"chinese\"]\n",
    "    else:\n",
    "        return func_dict[str_range]\n",
    "\n",
    "def collate_char_iterator(itertools_perm):\n",
    "    return map(lambda x:\"\".join(x),itertools_perm)\n",
    "\n",
    "def chargen(language=\"lowercase\",n=1):\n",
    "    return collate_char_iterator(permutations(create_char_map('lowercase'),n))\n",
    "\n",
    "def add_char(input_char,language=\"lowercase\",n=2,forward=True):\n",
    "    return (\"{}{}\".format(char,input_char) \n",
    "        if forward==True else \"{}{}\".format(input_char,char) \n",
    "        for char in chargen(language=language,n=n))\n",
    "\n",
    "def replace_char(input_char,language=\"lowercase\",n=2):\n",
    "    m = len(input_char)\n",
    "    S = chargen(language=language,n=n)\n",
    "    for create_str in S:\n",
    "        for i in range(m):\n",
    "            result = yield input_char.replace(input_char[i:i+n],create_str)\n",
    "\n",
    "symbles=''':,\"{[}](>)</\\n。●  ，、的 啊 好 和\n",
    "并 与 及 对 错 你 我 我们 她 他 它：: ; ；《 》\n",
    "1 2 3 4 5 6 7 8 9 0  ‘ “ ” ’ + - * / ` ~ \n",
    "\\( \\ [ \\ { \\ } ] ) （ ）【 \\xa0 】理想 愿景\n",
    "工 不管 只要 一员 大家庭 当成 作 帅哥 美女 年轻\n",
    "佛系\n",
    "'''\n",
    "def delete_element(strings,symbles=symbles):\n",
    "    srcrep = {i:'' for i in symbles }\n",
    "    rep = dict((re.escape(k), v) for k, v in srcrep.items())\n",
    "    pattern = re.compile(\"|\".join(rep.keys()))\n",
    "    return pattern.sub(lambda m: rep[re.escape(m.group(0))], strings)\n",
    "\n",
    "def delete_char(input_char,language=\"lowercase\",n=2):\n",
    "    return (delete_element(input_char,\"\".join(chars)) for chars in permutations(input_char,n))\n",
    "\n",
    "def translation_str(input_char,language=\"lowercase\",n=2):\n",
    "    del_ = delete_char(input_char,language=language,n=n)\n",
    "    replace_ = replace_char(input_char,language=language,n=n)\n",
    "    add_forward = add_char(input_char,language=language,n=n,forward=True)\n",
    "    add_backward = add_char(input_char,language=language,n=n,forward=False)\n",
    "    return tuple(list(del_)+list(replace_)+list(add_forward)+list(add_backward))\n",
    "\n",
    "def translation_n(input_char,language=\"lowercase\",n=2):\n",
    "    result = []\n",
    "    for i in range(1,n+1):\n",
    "        result += list(translation_str(input_char,language=language,n=i))\n",
    "    return result"
   ]
  },
  {
   "cell_type": "markdown",
   "metadata": {},
   "source": [
    "# 测试"
   ]
  },
  {
   "cell_type": "code",
   "execution_count": 31,
   "metadata": {
    "tags": []
   },
   "outputs": [
    {
     "output_type": "stream",
     "name": "stdout",
     "text": "CPU times: user 60.8 ms, sys: 4.92 ms, total: 65.7 ms\nWall time: 70.6 ms\n"
    },
    {
     "output_type": "execute_result",
     "data": {
      "text/plain": "110520"
     },
     "metadata": {},
     "execution_count": 31
    }
   ],
   "source": [
    "%time len(translation_str(\"number\",n=3))"
   ]
  },
  {
   "cell_type": "code",
   "execution_count": 32,
   "metadata": {},
   "outputs": [
    {
     "output_type": "execute_result",
     "data": {
      "text/plain": "['a', 'b', 'c', 'd', 'e', 'f', 'g', 'h', 'i', 'j']"
     },
     "metadata": {},
     "execution_count": 32
    }
   ],
   "source": [
    "list(chargen(n=1))[:10]"
   ]
  },
  {
   "cell_type": "code",
   "execution_count": 33,
   "metadata": {},
   "outputs": [
    {
     "output_type": "execute_result",
     "data": {
      "text/plain": "['umber', 'nmber', 'nuber', 'numer', 'numbr', 'numbe']"
     },
     "metadata": {},
     "execution_count": 33
    }
   ],
   "source": [
    "list(delere_char(\"number\",n=1))[:10]"
   ]
  },
  {
   "cell_type": "code",
   "execution_count": 38,
   "metadata": {},
   "outputs": [
    {
     "output_type": "execute_result",
     "data": {
      "text/plain": "['abmber',\n 'nabber',\n 'nuaber',\n 'numabr',\n 'numbab',\n 'numbeab',\n 'acmber',\n 'nacber',\n 'nuacer',\n 'numacr',\n 'numbac',\n 'numbeac',\n 'admber',\n 'nadber',\n 'nuader',\n 'numadr',\n 'numbad',\n 'numbead',\n 'aember',\n 'naeber',\n 'nuaeer',\n 'numaer',\n 'numbae',\n 'numbeae',\n 'afmber',\n 'nafber',\n 'nuafer',\n 'numafr',\n 'numbaf',\n 'numbeaf',\n 'agmber',\n 'nagber',\n 'nuager',\n 'numagr',\n 'numbag',\n 'numbeag',\n 'ahmber',\n 'nahber',\n 'nuaher',\n 'numahr',\n 'numbah',\n 'numbeah',\n 'aimber',\n 'naiber',\n 'nuaier',\n 'numair',\n 'numbai',\n 'numbeai',\n 'ajmber',\n 'najber',\n 'nuajer',\n 'numajr',\n 'numbaj',\n 'numbeaj',\n 'akmber',\n 'nakber',\n 'nuaker',\n 'numakr',\n 'numbak',\n 'numbeak',\n 'almber',\n 'nalber',\n 'nualer',\n 'numalr',\n 'numbal',\n 'numbeal',\n 'ammber',\n 'namber',\n 'nuamer',\n 'numamr',\n 'numbam',\n 'numbeam',\n 'anmber',\n 'nanber',\n 'nuaner',\n 'numanr',\n 'numban',\n 'numbean',\n 'aomber',\n 'naober',\n 'nuaoer',\n 'numaor',\n 'numbao',\n 'numbeao',\n 'apmber',\n 'napber',\n 'nuaper',\n 'numapr',\n 'numbap',\n 'numbeap',\n 'aqmber',\n 'naqber',\n 'nuaqer',\n 'numaqr',\n 'numbaq',\n 'numbeaq',\n 'armber',\n 'narber',\n 'nuarer',\n 'numarr',\n 'numbar',\n 'numbear',\n 'asmber',\n 'nasber',\n 'nuaser',\n 'numasr',\n 'numbas',\n 'numbeas',\n 'atmber',\n 'natber',\n 'nuater',\n 'numatr',\n 'numbat',\n 'numbeat',\n 'aumber',\n 'nauber',\n 'nuauer',\n 'numaur',\n 'numbau',\n 'numbeau',\n 'avmber',\n 'navber',\n 'nuaver',\n 'numavr',\n 'numbav',\n 'numbeav',\n 'awmber',\n 'nawber',\n 'nuawer',\n 'numawr',\n 'numbaw',\n 'numbeaw',\n 'axmber',\n 'naxber',\n 'nuaxer',\n 'numaxr',\n 'numbax',\n 'numbeax',\n 'aymber',\n 'nayber',\n 'nuayer',\n 'numayr',\n 'numbay',\n 'numbeay',\n 'bamber',\n 'nbaber',\n 'nubaer',\n 'numbar',\n 'numbba',\n 'numbeba',\n 'bcmber',\n 'nbcber',\n 'nubcer',\n 'numbcr',\n 'numbbc',\n 'numbebc',\n 'bdmber',\n 'nbdber',\n 'nubder',\n 'numbdr',\n 'numbbd',\n 'numbebd',\n 'bember',\n 'nbeber',\n 'nubeer',\n 'number',\n 'numbbe',\n 'numbebe',\n 'bfmber',\n 'nbfber',\n 'nubfer',\n 'numbfr',\n 'numbbf',\n 'numbebf',\n 'bgmber',\n 'nbgber',\n 'nubger',\n 'numbgr',\n 'numbbg',\n 'numbebg',\n 'bhmber',\n 'nbhber',\n 'nubher',\n 'numbhr',\n 'numbbh',\n 'numbebh',\n 'bimber',\n 'nbiber',\n 'nubier',\n 'numbir',\n 'numbbi',\n 'numbebi',\n 'bjmber',\n 'nbjber',\n 'nubjer',\n 'numbjr',\n 'numbbj',\n 'numbebj',\n 'bkmber',\n 'nbkber',\n 'nubker',\n 'numbkr',\n 'numbbk',\n 'numbebk',\n 'blmber',\n 'nblber',\n 'nubler',\n 'numblr',\n 'numbbl',\n 'numbebl',\n 'bmmber',\n 'nbmber',\n 'nubmer',\n 'numbmr',\n 'numbbm',\n 'numbebm',\n 'bnmber',\n 'nbnber',\n 'nubner',\n 'numbnr',\n 'numbbn',\n 'numbebn',\n 'bomber',\n 'nbober',\n 'nuboer',\n 'numbor',\n 'numbbo',\n 'numbebo',\n 'bpmber',\n 'nbpber',\n 'nubper',\n 'numbpr',\n 'numbbp',\n 'numbebp',\n 'bqmber',\n 'nbqber',\n 'nubqer',\n 'numbqr',\n 'numbbq',\n 'numbebq',\n 'brmber',\n 'nbrber',\n 'nubrer',\n 'numbrr',\n 'numbbr',\n 'numbebr',\n 'bsmber',\n 'nbsber',\n 'nubser',\n 'numbsr',\n 'numbbs',\n 'numbebs',\n 'btmber',\n 'nbtber',\n 'nubter',\n 'numbtr',\n 'numbbt',\n 'numbebt',\n 'bumber',\n 'nbuber',\n 'nubuer',\n 'numbur',\n 'numbbu',\n 'numbebu',\n 'bvmber',\n 'nbvber',\n 'nubver',\n 'numbvr',\n 'numbbv',\n 'numbebv',\n 'bwmber',\n 'nbwber',\n 'nubwer',\n 'numbwr',\n 'numbbw',\n 'numbebw',\n 'bxmber',\n 'nbxber',\n 'nubxer',\n 'numbxr',\n 'numbbx',\n 'numbebx',\n 'bymber',\n 'nbyber',\n 'nubyer',\n 'numbyr',\n 'numbby',\n 'numbeby',\n 'camber',\n 'ncaber',\n 'nucaer',\n 'numcar',\n 'numbca',\n 'numbeca',\n 'cbmber',\n 'ncbber',\n 'nucber',\n 'numcbr',\n 'numbcb',\n 'numbecb',\n 'cdmber',\n 'ncdber',\n 'nucder',\n 'numcdr',\n 'numbcd',\n 'numbecd',\n 'cember',\n 'nceber',\n 'nuceer',\n 'numcer',\n 'numbce',\n 'numbece',\n 'cfmber',\n 'ncfber',\n 'nucfer',\n 'numcfr',\n 'numbcf',\n 'numbecf',\n 'cgmber',\n 'ncgber',\n 'nucger',\n 'numcgr',\n 'numbcg',\n 'numbecg',\n 'chmber',\n 'nchber',\n 'nucher',\n 'numchr',\n 'numbch',\n 'numbech',\n 'cimber',\n 'nciber',\n 'nucier',\n 'numcir',\n 'numbci',\n 'numbeci',\n 'cjmber',\n 'ncjber',\n 'nucjer',\n 'numcjr',\n 'numbcj',\n 'numbecj',\n 'ckmber',\n 'nckber',\n 'nucker',\n 'numckr',\n 'numbck',\n 'numbeck',\n 'clmber',\n 'nclber',\n 'nucler',\n 'numclr',\n 'numbcl',\n 'numbecl',\n 'cmmber',\n 'ncmber',\n 'nucmer',\n 'numcmr',\n 'numbcm',\n 'numbecm',\n 'cnmber',\n 'ncnber',\n 'nucner',\n 'numcnr',\n 'numbcn',\n 'numbecn',\n 'comber',\n 'ncober',\n 'nucoer',\n 'numcor',\n 'numbco',\n 'numbeco',\n 'cpmber',\n 'ncpber',\n 'nucper',\n 'numcpr',\n 'numbcp',\n 'numbecp',\n 'cqmber',\n 'ncqber',\n 'nucqer',\n 'numcqr',\n 'numbcq',\n 'numbecq',\n 'crmber',\n 'ncrber',\n 'nucrer',\n 'numcrr',\n 'numbcr',\n 'numbecr',\n 'csmber',\n 'ncsber',\n 'nucser',\n 'numcsr',\n 'numbcs',\n 'numbecs',\n 'ctmber',\n 'nctber',\n 'nucter',\n 'numctr',\n 'numbct',\n 'numbect',\n 'cumber',\n 'ncuber',\n 'nucuer',\n 'numcur',\n 'numbcu',\n 'numbecu',\n 'cvmber',\n 'ncvber',\n 'nucver',\n 'numcvr',\n 'numbcv',\n 'numbecv',\n 'cwmber',\n 'ncwber',\n 'nucwer',\n 'numcwr',\n 'numbcw',\n 'numbecw',\n 'cxmber',\n 'ncxber',\n 'nucxer',\n 'numcxr',\n 'numbcx',\n 'numbecx',\n 'cymber',\n 'ncyber',\n 'nucyer',\n 'numcyr',\n 'numbcy',\n 'numbecy',\n 'damber',\n 'ndaber',\n 'nudaer',\n 'numdar',\n 'numbda',\n 'numbeda',\n 'dbmber',\n 'ndbber',\n 'nudber',\n 'numdbr',\n 'numbdb',\n 'numbedb',\n 'dcmber',\n 'ndcber',\n 'nudcer',\n 'numdcr',\n 'numbdc',\n 'numbedc',\n 'dember',\n 'ndeber',\n 'nudeer',\n 'numder',\n 'numbde',\n 'numbede',\n 'dfmber',\n 'ndfber',\n 'nudfer',\n 'numdfr',\n 'numbdf',\n 'numbedf',\n 'dgmber',\n 'ndgber',\n 'nudger',\n 'numdgr',\n 'numbdg',\n 'numbedg',\n 'dhmber',\n 'ndhber',\n 'nudher',\n 'numdhr',\n 'numbdh',\n 'numbedh',\n 'dimber',\n 'ndiber',\n 'nudier',\n 'numdir',\n 'numbdi',\n 'numbedi',\n 'djmber',\n 'ndjber',\n 'nudjer',\n 'numdjr',\n 'numbdj',\n 'numbedj',\n 'dkmber',\n 'ndkber',\n 'nudker',\n 'numdkr',\n 'numbdk',\n 'numbedk',\n 'dlmber',\n 'ndlber',\n 'nudler',\n 'numdlr',\n 'numbdl',\n 'numbedl',\n 'dmmber',\n 'ndmber',\n 'nudmer',\n 'numdmr',\n 'numbdm',\n 'numbedm',\n 'dnmber',\n 'ndnber',\n 'nudner',\n 'numdnr',\n 'numbdn',\n 'numbedn',\n 'domber',\n 'ndober',\n 'nudoer',\n 'numdor',\n 'numbdo',\n 'numbedo',\n 'dpmber',\n 'ndpber',\n 'nudper',\n 'numdpr',\n 'numbdp',\n 'numbedp',\n 'dqmber',\n 'ndqber',\n 'nudqer',\n 'numdqr',\n 'numbdq',\n 'numbedq',\n 'drmber',\n 'ndrber',\n 'nudrer',\n 'numdrr',\n 'numbdr',\n 'numbedr',\n 'dsmber',\n 'ndsber',\n 'nudser',\n 'numdsr',\n 'numbds',\n 'numbeds',\n 'dtmber',\n 'ndtber',\n 'nudter',\n 'numdtr',\n 'numbdt',\n 'numbedt',\n 'dumber',\n 'nduber',\n 'nuduer',\n 'numdur',\n 'numbdu',\n 'numbedu',\n 'dvmber',\n 'ndvber',\n 'nudver',\n 'numdvr',\n 'numbdv',\n 'numbedv',\n 'dwmber',\n 'ndwber',\n 'nudwer',\n 'numdwr',\n 'numbdw',\n 'numbedw',\n 'dxmber',\n 'ndxber',\n 'nudxer',\n 'numdxr',\n 'numbdx',\n 'numbedx',\n 'dymber',\n 'ndyber',\n 'nudyer',\n 'numdyr',\n 'numbdy',\n 'numbedy',\n 'eamber',\n 'neaber',\n 'nueaer',\n 'numear',\n 'numbea',\n 'numbeea',\n 'ebmber',\n 'nebber',\n 'nueber',\n 'numebr',\n 'numbeb',\n 'numbeeb',\n 'ecmber',\n 'necber',\n 'nuecer',\n 'numecr',\n 'numbec',\n 'numbeec',\n 'edmber',\n 'nedber',\n 'nueder',\n 'numedr',\n 'numbed',\n 'numbeed',\n 'efmber',\n 'nefber',\n 'nuefer',\n 'numefr',\n 'numbef',\n 'numbeef',\n 'egmber',\n 'negber',\n 'nueger',\n 'numegr',\n 'numbeg',\n 'numbeeg',\n 'ehmber',\n 'nehber',\n 'nueher',\n 'numehr',\n 'numbeh',\n 'numbeeh',\n 'eimber',\n 'neiber',\n 'nueier',\n 'numeir',\n 'numbei',\n 'numbeei',\n 'ejmber',\n 'nejber',\n 'nuejer',\n 'numejr',\n 'numbej',\n 'numbeej',\n 'ekmber',\n 'nekber',\n 'nueker',\n 'numekr',\n 'numbek',\n 'numbeek',\n 'elmber',\n 'nelber',\n 'nueler',\n 'numelr',\n 'numbel',\n 'numbeel',\n 'emmber',\n 'nember',\n 'nuemer',\n 'numemr',\n 'numbem',\n 'numbeem',\n 'enmber',\n 'nenber',\n 'nuener',\n 'numenr',\n 'numben',\n 'numbeen',\n 'eomber',\n 'neober',\n 'nueoer',\n 'numeor',\n 'numbeo',\n 'numbeeo',\n 'epmber',\n 'nepber',\n 'nueper',\n 'numepr',\n 'numbep',\n 'numbeep',\n 'eqmber',\n 'neqber',\n 'nueqer',\n 'numeqr',\n 'numbeq',\n 'numbeeq',\n 'ermber',\n 'nerber',\n 'nuerer',\n 'numerr',\n 'number',\n 'numbeer',\n 'esmber',\n 'nesber',\n 'nueser',\n 'numesr',\n 'numbes',\n 'numbees',\n 'etmber',\n 'netber',\n 'nueter',\n 'numetr',\n 'numbet',\n 'numbeet',\n 'eumber',\n 'neuber',\n 'nueuer',\n 'numeur',\n 'numbeu',\n 'numbeeu',\n 'evmber',\n 'nevber',\n 'nuever',\n 'numevr',\n 'numbev',\n 'numbeev',\n 'ewmber',\n 'newber',\n 'nuewer',\n 'numewr',\n 'numbew',\n 'numbeew',\n 'exmber',\n 'nexber',\n 'nuexer',\n 'numexr',\n 'numbex',\n 'numbeex',\n 'eymber',\n 'neyber',\n 'nueyer',\n 'numeyr',\n 'numbey',\n 'numbeey',\n 'famber',\n 'nfaber',\n 'nufaer',\n 'numfar',\n 'numbfa',\n 'numbefa',\n 'fbmber',\n 'nfbber',\n 'nufber',\n 'numfbr',\n 'numbfb',\n 'numbefb',\n 'fcmber',\n 'nfcber',\n 'nufcer',\n 'numfcr',\n 'numbfc',\n 'numbefc',\n 'fdmber',\n 'nfdber',\n 'nufder',\n 'numfdr',\n 'numbfd',\n 'numbefd',\n 'fember',\n 'nfeber',\n 'nufeer',\n 'numfer',\n 'numbfe',\n 'numbefe',\n 'fgmber',\n 'nfgber',\n 'nufger',\n 'numfgr',\n 'numbfg',\n 'numbefg',\n 'fhmber',\n 'nfhber',\n 'nufher',\n 'numfhr',\n 'numbfh',\n 'numbefh',\n 'fimber',\n 'nfiber',\n 'nufier',\n 'numfir',\n 'numbfi',\n 'numbefi',\n 'fjmber',\n 'nfjber',\n 'nufjer',\n 'numfjr',\n 'numbfj',\n 'numbefj',\n 'fkmber',\n 'nfkber',\n 'nufker',\n 'numfkr',\n 'numbfk',\n 'numbefk',\n 'flmber',\n 'nflber',\n 'nufler',\n 'numflr',\n 'numbfl',\n 'numbefl',\n 'fmmber',\n 'nfmber',\n 'nufmer',\n 'numfmr',\n 'numbfm',\n 'numbefm',\n 'fnmber',\n 'nfnber',\n 'nufner',\n 'numfnr',\n 'numbfn',\n 'numbefn',\n 'fomber',\n 'nfober',\n 'nufoer',\n 'numfor',\n 'numbfo',\n 'numbefo',\n 'fpmber',\n 'nfpber',\n 'nufper',\n 'numfpr',\n 'numbfp',\n 'numbefp',\n 'fqmber',\n 'nfqber',\n 'nufqer',\n 'numfqr',\n 'numbfq',\n 'numbefq',\n 'frmber',\n 'nfrber',\n 'nufrer',\n 'numfrr',\n 'numbfr',\n 'numbefr',\n 'fsmber',\n 'nfsber',\n 'nufser',\n 'numfsr',\n 'numbfs',\n 'numbefs',\n 'ftmber',\n 'nftber',\n 'nufter',\n 'numftr',\n 'numbft',\n 'numbeft',\n 'fumber',\n 'nfuber',\n 'nufuer',\n 'numfur',\n 'numbfu',\n 'numbefu',\n 'fvmber',\n 'nfvber',\n 'nufver',\n 'numfvr',\n 'numbfv',\n 'numbefv',\n 'fwmber',\n 'nfwber',\n 'nufwer',\n 'numfwr',\n 'numbfw',\n 'numbefw',\n 'fxmber',\n 'nfxber',\n 'nufxer',\n 'numfxr',\n 'numbfx',\n 'numbefx',\n 'fymber',\n 'nfyber',\n 'nufyer',\n 'numfyr',\n 'numbfy',\n 'numbefy',\n 'gamber',\n 'ngaber',\n 'nugaer',\n 'numgar',\n 'numbga',\n 'numbega',\n 'gbmber',\n 'ngbber',\n 'nugber',\n 'numgbr',\n 'numbgb',\n 'numbegb',\n 'gcmber',\n 'ngcber',\n 'nugcer',\n 'numgcr',\n 'numbgc',\n 'numbegc',\n 'gdmber',\n 'ngdber',\n 'nugder',\n 'numgdr',\n 'numbgd',\n 'numbegd',\n 'gember',\n 'ngeber',\n 'nugeer',\n 'numger',\n 'numbge',\n 'numbege',\n 'gfmber',\n 'ngfber',\n 'nugfer',\n 'numgfr',\n 'numbgf',\n 'numbegf',\n 'ghmber',\n 'nghber',\n 'nugher',\n 'numghr',\n 'numbgh',\n 'numbegh',\n 'gimber',\n 'ngiber',\n 'nugier',\n 'numgir',\n 'numbgi',\n 'numbegi',\n 'gjmber',\n 'ngjber',\n 'nugjer',\n 'numgjr',\n 'numbgj',\n 'numbegj',\n 'gkmber',\n 'ngkber',\n 'nugker',\n 'numgkr',\n 'numbgk',\n 'numbegk',\n 'glmber',\n 'nglber',\n 'nugler',\n 'numglr',\n 'numbgl',\n 'numbegl',\n 'gmmber',\n 'ngmber',\n 'nugmer',\n 'numgmr',\n 'numbgm',\n 'numbegm',\n 'gnmber',\n 'ngnber',\n 'nugner',\n 'numgnr',\n 'numbgn',\n 'numbegn',\n 'gomber',\n 'ngober',\n 'nugoer',\n 'numgor',\n 'numbgo',\n 'numbego',\n 'gpmber',\n 'ngpber',\n 'nugper',\n 'numgpr',\n 'numbgp',\n 'numbegp',\n 'gqmber',\n 'ngqber',\n 'nugqer',\n 'numgqr',\n 'numbgq',\n 'numbegq',\n 'grmber',\n 'ngrber',\n 'nugrer',\n 'numgrr',\n 'numbgr',\n 'numbegr',\n 'gsmber',\n 'ngsber',\n 'nugser',\n 'numgsr',\n 'numbgs',\n 'numbegs',\n 'gtmber',\n 'ngtber',\n 'nugter',\n 'numgtr',\n 'numbgt',\n 'numbegt',\n 'gumber',\n 'nguber',\n 'nuguer',\n 'numgur',\n 'numbgu',\n 'numbegu',\n 'gvmber',\n 'ngvber',\n 'nugver',\n 'numgvr',\n 'numbgv',\n 'numbegv',\n 'gwmber',\n 'ngwber',\n 'nugwer',\n 'numgwr',\n 'numbgw',\n 'numbegw',\n 'gxmber',\n 'ngxber',\n 'nugxer',\n 'numgxr',\n ...]"
     },
     "metadata": {},
     "execution_count": 38
    }
   ],
   "source": [
    "list(replace_char(\"number\",1))"
   ]
  },
  {
   "cell_type": "code",
   "execution_count": 35,
   "metadata": {
    "tags": []
   },
   "outputs": [
    {
     "output_type": "execute_result",
     "data": {
      "text/plain": "('abmber',\n 'nabber',\n 'nuaber',\n 'numabr',\n 'numbab',\n 'numbeab',\n 'acmber',\n 'nacber',\n 'nuacer',\n 'numacr')"
     },
     "metadata": {},
     "execution_count": 35
    }
   ],
   "source": [
    "tuple(replace_char('number',3))[:10]"
   ]
  },
  {
   "cell_type": "code",
   "execution_count": 36,
   "metadata": {},
   "outputs": [
    {
     "output_type": "execute_result",
     "data": {
      "text/plain": "('numbera',\n 'numberb',\n 'numberc',\n 'numberd',\n 'numbere',\n 'numberf',\n 'numberg',\n 'numberh',\n 'numberi',\n 'numberj')"
     },
     "metadata": {},
     "execution_count": 36
    }
   ],
   "source": [
    "tuple(add_char('number',n=1, forward = False))[:10]"
   ]
  },
  {
   "cell_type": "code",
   "execution_count": 37,
   "metadata": {},
   "outputs": [
    {
     "output_type": "execute_result",
     "data": {
      "text/plain": "['abnumber',\n 'acnumber',\n 'adnumber',\n 'aenumber',\n 'afnumber',\n 'agnumber',\n 'ahnumber',\n 'ainumber',\n 'ajnumber',\n 'aknumber']"
     },
     "metadata": {},
     "execution_count": 37
    }
   ],
   "source": [
    "list(add_char('number',n=2, forward = True))[:10]"
   ]
  },
  {
   "cell_type": "code",
   "execution_count": null,
   "metadata": {},
   "outputs": [],
   "source": []
  }
 ],
 "metadata": {
  "language_info": {
   "codemirror_mode": {
    "name": "ipython",
    "version": 3
   },
   "file_extension": ".py",
   "mimetype": "text/x-python",
   "name": "python",
   "nbconvert_exporter": "python",
   "pygments_lexer": "ipython3",
   "version": "3.7.3-final"
  },
  "orig_nbformat": 2,
  "kernelspec": {
   "name": "python_defaultSpec_1597401552436",
   "display_name": "Python 3.7.3 64-bit"
  }
 },
 "nbformat": 4,
 "nbformat_minor": 2
}